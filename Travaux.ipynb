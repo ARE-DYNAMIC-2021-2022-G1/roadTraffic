{
  "nbformat": 4,
  "nbformat_minor": 0,
  "metadata": {
    "colab": {
      "name": "Travaux.ipynb",
      "provenance": [],
      "collapsed_sections": []
    },
    "kernelspec": {
      "name": "python3",
      "display_name": "Python 3"
    },
    "language_info": {
      "name": "python"
    }
  },
  "cells": [
    {
      "cell_type": "code",
      "execution_count": 53,
      "metadata": {
        "id": "M5L7rt7WJ9SG"
      },
      "outputs": [],
      "source": [
        "import numpy as np\n",
        "import matplotlib.pyplot as plt\n",
        "import networkx as nx\n",
        "import random\n",
        "from tqdm import tqdm\n",
        "import copy"
      ]
    },
    {
      "cell_type": "code",
      "source": [
        "Types = {'electrique': 6210 , 'thermique':3740 } #le taux de co2 emis a la construction en kg \n",
        "\n",
        "CO2emisparkm = {'electrique': 0.02 , 'thermique':0.19 } #le taux de co2 emis par km en kg \n",
        "\n",
        "Types_vitesseslimit = {'electrique': 200, 'thermique':150}\n",
        "\n",
        "Types_perc = {'electrique': 0.5, 'thermique':0.5}\n",
        "\n",
        "Proba_shortestpath = 0.8 #la proba de choisir le chemin le plus court\n",
        "\n",
        "nb_voitures = 10"
      ],
      "metadata": {
        "id": "U78MkV9cKD7v"
      },
      "execution_count": 54,
      "outputs": []
    },
    {
      "cell_type": "code",
      "source": [
        "statut = {'normal':0.8,'bourée':0.15,'drogué':0.05}\n",
        "sexe = {\"homme\":0.7,'femme':0.3}\n",
        "age = {\"adulte\":0.8,'vieux':0.2}\n",
        "len(statut)"
      ],
      "metadata": {
        "colab": {
          "base_uri": "https://localhost:8080/"
        },
        "id": "DNtWbguFKHk1",
        "outputId": "b7d9de84-72f8-40f1-f98b-a98b4a7378c9"
      },
      "execution_count": 55,
      "outputs": [
        {
          "output_type": "execute_result",
          "data": {
            "text/plain": [
              "3"
            ]
          },
          "metadata": {},
          "execution_count": 55
        }
      ]
    },
    {
      "cell_type": "code",
      "source": [
        "ville_1m = [[0, 0, 0, 0, 0, 0, 0, 0, 1, 0, 0, 0],\n",
        "[0, 0, 0, 0, 0, 0, 0, 0, 0, 0, 0, 1],\n",
        "[0, 0, 0, 0, 0, 0, 0, 0, 0, 0, 0, 1],\n",
        "[0, 0, 0, 0, 0, 0, 0, 1, 0, 0, 1, 0],\n",
        "[0, 0, 0, 0, 0, 0, 0, 0, 0, 0, 1, 0],\n",
        "[0, 0, 0, 0, 0, 0, 0, 0, 0, 1, 0, 0] ,\n",
        "[0, 0, 0, 0, 0, 0, 0, 0, 0, 1, 0, 0] ,\n",
        "[0, 0, 0, 0, 0, 0, 0, 0, 1, 0, 0, 0] ,\n",
        "[0, 0, 0, 0, 0, 0, 0, 1, 0, 1, 0, 1] ,\n",
        "[0, 0, 0, 0, 0, 1, 1, 0, 1, 0, 1, 0],\n",
        "[0, 0, 0, 1, 1, 0, 0, 0, 0, 1, 0, 1],\n",
        "[0, 1, 1, 0, 0, 0, 0, 0, 1, 0, 1, 0]] "
      ],
      "metadata": {
        "id": "LtgYR87bKK8v"
      },
      "execution_count": 56,
      "outputs": []
    },
    {
      "cell_type": "code",
      "source": [
        "paris1m=[[0, 1, 0, 0, 0, 0, 0, 0, 0, 0, 1, 0, 0, 0, 0, 1, 0, 0, 0, 0, 0, 0, 0, 0, 0, 0, 0, 0, 0, 0],\n",
        "        [1, 0, 1, 0, 0, 0, 0, 0, 0, 0, 0, 0, 0, 0, 0, 0, 0, 0, 0, 0, 0, 0, 0, 0, 0, 0, 1, 0, 0, 0],\n",
        "        [0, 1, 0, 1, 0, 0, 0, 0, 0, 0, 0, 0, 0, 0, 0, 0, 0, 0, 0, 0, 0, 0, 1, 0, 0, 0, 0, 0, 0, 0],\n",
        "        [0, 0, 1, 0, 1, 0, 0, 0, 0, 0, 0, 0, 0, 0, 0, 0, 0, 0, 0, 0, 0, 1, 0, 0, 0, 0, 0, 0, 0, 0],\n",
        "        [0, 0, 0, 1, 0, 1, 0, 0, 0, 0, 0, 0, 0, 0, 0, 0, 0, 0, 0, 0, 0, 0, 0, 1, 0, 0, 0, 0, 0, 0],\n",
        "        [0, 0, 0, 0, 1, 0, 1, 0, 0, 0, 0, 0, 0, 0, 0, 0, 0, 0, 0, 0, 1, 0, 0, 0, 0, 0, 0, 0, 0, 0],\n",
        "        [0, 0, 0, 0, 0, 1, 0, 1, 0, 0, 0, 0, 1, 0, 0, 0, 0, 0, 0, 0, 0, 0, 0, 0, 0, 0, 0, 0, 0, 0],\n",
        "        [0, 0, 0, 0, 0, 0, 1, 0, 1, 0, 0, 0, 0, 0, 0, 0, 0, 0, 0, 0, 0, 0, 0, 0, 0, 0, 0, 0, 0, 1],\n",
        "        [0, 0, 0, 0, 0, 0, 0, 1, 0, 1, 0, 0, 0, 1, 0, 0, 0, 0, 0, 0, 0, 0, 0, 0, 0, 0, 0, 0, 0, 0],\n",
        "        [0, 0, 0, 0, 0, 0, 0, 0, 1, 0, 1, 0, 0, 0, 0, 0, 0, 0, 0, 1, 0, 0, 0, 0, 0, 0, 0, 0, 0, 0],\n",
        "        [1, 0, 0, 0, 0, 0, 0, 0, 0, 1, 0, 0, 0, 0, 0, 0, 0, 0, 0, 0, 0, 0, 0, 0, 0, 0, 0, 1, 0, 0],\n",
        "        [0, 0, 0, 0, 0, 0, 0, 0, 0, 0, 0, 0, 1, 0, 0, 0, 0, 0, 0, 0, 0, 0, 0, 0, 0, 1, 0, 0, 1, 1],\n",
        "        [0, 0, 0, 0, 0, 0, 1, 0, 0, 0, 0, 1, 0, 0, 0, 0, 0, 0, 0, 0, 1, 0, 0, 0, 0, 0, 0, 0, 0, 0],\n",
        "        [0, 0, 0, 0, 0, 0, 0, 0, 1, 0, 0, 0, 0, 0, 0, 0, 0, 0, 1, 1, 0, 0, 0, 0, 0, 0, 0, 0, 0, 1],\n",
        "        [0, 0, 0, 0, 0, 0, 0, 0, 0, 0, 0, 0, 0, 0, 0, 0, 0, 1, 0, 1, 0, 0, 0, 0, 0, 0, 0, 1, 0, 0],\n",
        "        [1, 0, 0, 0, 0, 0, 0, 0, 0, 0, 0, 0, 0, 0, 0, 0, 0, 1, 0, 0, 0, 0, 0, 0, 0, 0, 0, 0, 0, 0],\n",
        "        [0, 0, 0, 0, 0, 0, 0, 0, 0, 0, 0, 0, 0, 0, 0, 0, 0, 1, 0, 0, 0, 0, 1, 0, 0, 0, 1, 0, 0, 0],\n",
        "        [0, 0, 0, 0, 0, 0, 0, 0, 0, 0, 0, 0, 0, 0, 1, 1, 1, 0, 0, 0, 0, 0, 0, 0, 0, 1, 0, 1, 0, 0],\n",
        "        [0, 0, 0, 0, 0, 0, 0, 0, 0, 0, 0, 0, 0, 1, 0, 0, 0, 0, 0, 1, 0, 0, 0, 0, 0, 1, 0, 0, 0, 0],\n",
        "        [0, 0, 0, 0, 0, 0, 0, 0, 0, 1, 0, 0, 0, 1, 1, 0, 0, 0, 1, 0, 0, 0, 0, 0, 0, 0, 0, 0, 0, 0],\n",
        "        [0, 0, 0, 0, 0, 1, 0, 0, 0, 0, 0, 0, 1, 0, 0, 0, 0, 0, 0, 0, 0, 0, 0, 0, 0, 0, 0, 0, 1, 0],\n",
        "        [0, 0, 0, 1, 0, 0, 0, 0, 0, 0, 0, 0, 0, 0, 0, 0, 0, 0, 0, 0, 0, 0, 1, 1, 1, 0, 0, 0, 0, 0],\n",
        "        [0, 0, 1, 0, 0, 0, 0, 0, 0, 0, 0, 0, 0, 0, 0, 0, 1, 0, 0, 0, 0, 1, 0, 0, 0, 1, 0, 0, 0, 0],\n",
        "        [0, 0, 0, 0, 1, 0, 0, 0, 0, 0, 0, 0, 0, 0, 0, 0, 0, 0, 0, 0, 0, 1, 0, 0, 0, 0, 0, 0, 1, 0],\n",
        "        [0, 0, 0, 0, 0, 0, 0, 0, 0, 0, 0, 0, 0, 0, 0, 0, 0, 0, 0, 0, 0, 1, 0, 0, 0, 1, 0, 0, 1, 0],\n",
        "        [0, 0, 0, 0, 0, 0, 0, 0, 0, 0, 0, 1, 0, 0, 0, 0, 0, 1, 1, 0, 0, 0, 1, 0, 1, 0, 0, 0, 0, 0],\n",
        "        [0, 1, 0, 0, 0, 0, 0, 0, 0, 0, 0, 0, 0, 0, 0, 0, 1, 0, 0, 0, 0, 0, 0, 0, 0, 0, 0, 0, 0, 0],\n",
        "        [0, 0, 0, 0, 0, 0, 0, 0, 0, 0, 1, 0, 0, 0, 1, 0, 0, 1, 0, 0, 0, 0, 0, 0, 0, 0, 0, 0, 0, 0],\n",
        "        [0, 0, 0, 0, 0, 0, 0, 0, 0, 0, 0, 1, 0, 0, 0, 0, 0, 0, 0, 0, 1, 0, 0, 1, 1, 0, 0, 0, 0, 0],\n",
        "        [0, 0, 0, 0, 0, 0, 0, 1, 0, 0, 0, 1, 0, 1, 0, 0, 0, 0, 0, 0, 0, 0, 0, 0, 0, 0, 0, 0, 0, 0]]"
      ],
      "metadata": {
        "id": "E2VOaVDLKpsO"
      },
      "execution_count": 57,
      "outputs": []
    },
    {
      "cell_type": "code",
      "source": [
        "def co2_emission(distance,typee):\n",
        "    \"prend la distance en km et le type de la voiture et renvoie le taux de co2 emis\"\n",
        "    return distance * CO2emisparkm[typee]"
      ],
      "metadata": {
        "id": "Py7YmatZLKG7"
      },
      "execution_count": 58,
      "outputs": []
    },
    {
      "cell_type": "code",
      "source": [
        "def co2_construction ():\n",
        "    \"renvoie le taux de co2 emis lors de la construction de nos voitures\"\n",
        "    s = 0\n",
        "    for a in Types_perc : \n",
        "        s += Types_perc[a]*nb_voitures*Types[a]\n",
        "    return s"
      ],
      "metadata": {
        "id": "qoteAOh-LMBy"
      },
      "execution_count": 59,
      "outputs": []
    },
    {
      "cell_type": "code",
      "source": [
        "def ville_graphe(ville_m,lenmin,lenmax):\n",
        "    \"\"\" Retourn le graphe de la ville à partir de la matrice d'adjacence. ville_m = matrice, lenmin = longueur min des routes,\n",
        "    lenmax = longueur max des route. Tire aléatoirement la longueur des routes. On suppose que les routes n'ont pas de sens.   \n",
        "    \"\"\"\n",
        "    i = len(ville_m)\n",
        "    ville_graph = nx.Graph()\n",
        "    ville_graph.add_nodes_from(range(i))\n",
        "    ville_graph.add_edges_from([(x,y) for x in range(i) for y in range(i) if ville_m[x][y]==1])\n",
        "    for k in range(i-1):\n",
        "        L= [(x,y) for x in range(i) for y in range(i) if ville_m[x][y]==1]\n",
        "        for a,b in L : \n",
        "             ville_graph.add_edge(a,b, len = random.randint(lenmin,lenmax))\n",
        "    pos = nx.spring_layout(ville_graph)\n",
        "    nx.draw_networkx_edges(ville_graph,pos,edgelist=None, width=1.0, edge_color='k', style='solid', alpha=None, arrowstyle='-|>', arrowsize=10, edge_cmap=None, edge_vmin=None, edge_vmax=None, ax=None, arrows=True, label=None, node_size=300, nodelist=None, node_shape='o', connectionstyle='arc3', min_source_margin=0, min_target_margin=0)\n",
        "    nx.draw_networkx_edge_labels(ville_graph, pos)\n",
        "    nx.draw(ville_graph, pos, with_labels=True)\n",
        "    return ville_graph"
      ],
      "metadata": {
        "id": "PUhtfHsKKvLJ"
      },
      "execution_count": 60,
      "outputs": []
    },
    {
      "cell_type": "code",
      "source": [
        "def random_position(len_ville_1m):\n",
        "    \"\"\" Retourne la valeur du node de départ et celui d'arrivée de manière aléatoire. len_ville_1m = nb_colonne matrice\"\"\"\n",
        "    depart = random.randint(0,len_ville_1m -1)\n",
        "    arrivee = random.randint(0,len_ville_1m -1)\n",
        "    \n",
        "    while(depart == arrivee):\n",
        "        arrivee = random.randint(0,len_ville_1m -1)\n",
        "    return (depart, arrivee)"
      ],
      "metadata": {
        "id": "6WX4RjNyKz5t"
      },
      "execution_count": 61,
      "outputs": []
    },
    {
      "cell_type": "code",
      "source": [
        "def path_choice (proba, ville, positiondepart, positionarrivé): \n",
        "    x = random.randint(1,10)\n",
        "    if x<= proba*10: \n",
        "        return nx.shortest_path(ville, source=positiondepart, target=positionarrivé, weight='len', method='dijkstra')\n",
        "    else : \n",
        "        y = nx.all_simple_paths(ville, source=positiondepart, target=positionarrivé)\n",
        "        L=[]\n",
        "        for i in y:\n",
        "            L.append(i)\n",
        "        rnd = random.randint(0,len(L)-1)\n",
        "        return  L[rnd]"
      ],
      "metadata": {
        "id": "P0xQb7P9K64Y"
      },
      "execution_count": 62,
      "outputs": []
    },
    {
      "cell_type": "code",
      "source": [
        "def vitesse_dream(vitesse):\n",
        "  \"\"\"Fonction qui prend une vitesse règlementaire et qui renvoie une vitesse augmentée d'une variable aléatoire afin que les voitures dans \n",
        "  le cas du possible augmente leurs vitesses afin d'arriver à ce niveau de vitesse revé dans la route si rien ne leur font obstacle bien sur .\n",
        "  On suppose aussi qu'on est dans une ville réglementé à 50 km \"\"\"\n",
        "  max = 40 \n",
        "  \" km \"\n",
        "  aléa = random.randint(5,max)\n",
        "  res = vitesse + aléa\n",
        "  return res\n"
      ],
      "metadata": {
        "id": "MIiUVR98-X7g"
      },
      "execution_count": 128,
      "outputs": []
    },
    {
      "cell_type": "code",
      "source": [
        "class Voiture:\n",
        "    \"\"\" Création d'une voiture avec ses différents parametres\"\"\"\n",
        "    nbr_voiture = 0\n",
        "    def __init__(self,typee,positiondepart,positionarrivé,positionactuelle,vitesse,vitesse_max,villeg):\n",
        "        self.type = typee\n",
        "        self.speed = vitesse \n",
        "        \"\"\"position est un tuple d'un tuple de position et d'un pourcentage \"\"\"\n",
        "        self.position = positionactuelle\n",
        "        self.positiondepart = positiondepart\n",
        "        self.positionarrivé = positionarrivé\n",
        "        self.vitesse_max =vitesse_max\n",
        "        self.dreamspeed =  vitesse_dream(vitesse)\n",
        "        \"chemin le plus cours a\"\n",
        "        self.chemin = path_choice (Proba_shortestpath,villeg,positiondepart, positionarrivé)\n",
        "        Voiture.nbr_voiture += 1\n",
        "    def spawn(typesperc,nbr,lenvillem,villeg,proba):\n",
        "        \"\"\" création de la population de voitures en prenant en compte le pourcentage de voitures éléctriques et terminques\"\"\"\n",
        "        system=[]\n",
        "        len_ville_1m = lenvillem\n",
        "        for i in range(round(nbr*typesperc['electrique'])):\n",
        "            \n",
        "            pos = random_position(len_ville_1m)\n",
        "            depart = pos[0]\n",
        "            arrivee = pos[1]\n",
        "            \n",
        "            \n",
        "            a = path_choice (proba,villeg,depart, arrivee)\n",
        "            \n",
        "            system.append(\"voiture\"+str(i+1))\n",
        "            system[i]= Voiture('electrique',depart,arrivee,((depart,a[1]),0.0),50,Types_vitesseslimit['electrique'],villeg)\n",
        "        \n",
        "        for j in range(round(nbr*typesperc['thermique']), nbr):\n",
        "            \n",
        "            pos = random_position(len_ville_1m)\n",
        "            depart = pos[0]\n",
        "            arrivee = pos[1]\n",
        "            \n",
        "            b = path_choice (proba,villeg,depart, arrivee)\n",
        "        \n",
        "            system.append(\"voiture\"+str(j+1))\n",
        "            system[j]= Voiture('thermique',depart,arrivee,((depart,b[1]),0.0),50,Types_vitesseslimit['thermique'],villeg)\n",
        "        return system"
      ],
      "metadata": {
        "id": "jDPgAfwOK-jz"
      },
      "execution_count": 129,
      "outputs": []
    },
    {
      "cell_type": "code",
      "source": [
        "def liste2tuple(chemin_liste):\n",
        "    \"\"\" transforme une liste en tuple. Permet d'afficher le chemin sous forme de plusieurs tuples.\n",
        "    chemin liste = liste du plus court chemin enregistré dans voiture.chemin\"\"\"\n",
        "    chemin_tuple = []\n",
        "    for i in range(len(chemin_liste)-1):\n",
        "        chemin_tuple.append((chemin_liste[i],chemin_liste[i+1]))\n",
        "    return chemin_tuple"
      ],
      "metadata": {
        "id": "djz4zRLjLqzS"
      },
      "execution_count": 65,
      "outputs": []
    },
    {
      "cell_type": "code",
      "source": [
        "def indice_chemin(chemin , tuplee):\n",
        "    \"\"\" retourn l'indice du tuple (position) dans le chemin sous forme de liste de tuples. chemin = liste de tuples, \n",
        "    tuplee = le tuple / arrete à trouver\"\"\"\n",
        "    for i in range(len(chemin)-1):\n",
        "        if chemin[i]==tuplee:\n",
        "            return i\n",
        "    return 0 "
      ],
      "metadata": {
        "id": "O-6YBBJULvGf"
      },
      "execution_count": 66,
      "outputs": []
    },
    {
      "cell_type": "code",
      "source": [
        "def donne_longueur(tuple1, villeg):\n",
        "    \"\"\" Retourn la longueur entre deux nodes reliés entre eux. \"\"\"\n",
        "    length = nx.get_edge_attributes(villeg,'len')\n",
        "    for (tuple2,l) in length.items():\n",
        "        if((tuple1[0]==tuple2[0]) and (tuple1[1]==tuple2[1])) or ((tuple1[0]==tuple2[1] )and (tuple1[1]==tuple2[0])) :\n",
        "            return l\n",
        "    return -1 "
      ],
      "metadata": {
        "id": "gXZsma4QLyL6"
      },
      "execution_count": 67,
      "outputs": []
    },
    {
      "cell_type": "code",
      "source": [
        "def change_distance(voiture,villeg,verbose=True):\n",
        "    \"\"\" Cette fonction permet de deplacer une voiture pendant 10s. Elle modifie les parametres de la voiture :\n",
        "    pourcentage de la distance parcouru sur une arrete, changement de node quand on arrive à la fin de l'arrete\n",
        "    et ajout de la distance parcouru sur la nouvelle arrete\"\"\"\n",
        "    \n",
        "    chemin_liste = voiture.chemin\n",
        "    chemin = liste2tuple(chemin_liste)\n",
        "    distance_parcouru = (voiture.speed*10)/3600\n",
        "    if voiture.position[1]+(distance_parcouru*100)/donne_longueur(voiture.position[0],villeg) > 100:\n",
        "        if voiture.position[0][1]== voiture.positionarrivé:\n",
        "            voiture.speed=0\n",
        "            voiture.position=(voiture.position[0],100)\n",
        "        else:\n",
        "            if verbose:\n",
        "                print()\n",
        "                print(\"changement d'arrete \" + \"passage de \" +str(chemin[indice_chemin(chemin,voiture.position[0]) - 1]) + \" à :\" + str(voiture.position[0]))\n",
        "                print()\n",
        "            voiture.position = (chemin[indice_chemin(chemin,voiture.position[0]) + 1],0)\n",
        "        \n",
        "    \n",
        "    if voiture.position[1]<100 and voiture.speed!= 0:\n",
        "        voiture.position = (voiture.position[0],voiture.position[1]+(distance_parcouru*100)/donne_longueur(voiture.position[0],villeg))  \n",
        "        "
      ],
      "metadata": {
        "id": "UPgWMaxGL1Pe"
      },
      "execution_count": 120,
      "outputs": []
    },
    {
      "cell_type": "code",
      "source": [
        "def nb_voiture_edge_temp_reel(population):\n",
        "    \"\"\" cette fonction compte le nombre de voiture sur chaque edge à chaque instant (10s). (u,v) = (v,u)\"\"\"\n",
        "    popu = [v.position[0] for v in population]\n",
        "    compte ={}\n",
        "    #print(popu)\n",
        "    for valeur1, valeur2 in popu:\n",
        "        if (valeur1,valeur2) and (valeur2,valeur1) not in compte: \n",
        "            compte[(valeur1,valeur2)]= popu.count((valeur1,valeur2)) + popu.count((valeur2,valeur1))\n",
        "        \n",
        "    return compte"
      ],
      "metadata": {
        "id": "v_I4zihgL5C_"
      },
      "execution_count": 69,
      "outputs": []
    },
    {
      "cell_type": "code",
      "source": [
        "def route_plus_sature(population):\n",
        "    \"\"\" Retourne la liste des edges les plus fréquentés en temps réel \"\"\"\n",
        "    A = nb_voiture_edge_temp_reel(population)\n",
        "    maxi = 0\n",
        "    maxival = []\n",
        "    for j,v in A.items():\n",
        "        if v>maxi:\n",
        "            maxi = v\n",
        "            maxiv = j\n",
        "    maxival.append(maxiv)\n",
        "   # print(A)\n",
        "    #print()\n",
        "    A.pop(maxiv)\n",
        "    #print()\n",
        "    #print(A)\n",
        "    for i,k in A.items():\n",
        "        if k == maxi:\n",
        "            maxival.append(i)\n",
        "    return maxival "
      ],
      "metadata": {
        "id": "-sUXXnNML9EX"
      },
      "execution_count": 70,
      "outputs": []
    },
    {
      "cell_type": "code",
      "source": [
        "def color_ville_g(ville_g, route_sature):\n",
        "    \"\"\" affiche la ville avec l'arrete ou les arretes les plus fréquentées edgelist permet de choisir les arrete a colorer\n",
        "    petit probleme à chaque affichage le graph ne garde pas la meme forme il n'est pas figé.\"\"\"\n",
        "    pos = nx.spring_layout(ville_g)\n",
        "    nx.draw_networkx_edges(ville_g, pos,width=5.0, edgelist = route_sature ,edge_color='yellow', style='solid')\n",
        "    #nx.draw_networkx_edge_labels(ville_g, pos)\n",
        "    nx.draw(ville_g, pos, with_labels=True)"
      ],
      "metadata": {
        "id": "TjtgQisIL_zN"
      },
      "execution_count": 71,
      "outputs": []
    },
    {
      "cell_type": "code",
      "source": [
        "def route_plus_parcouru_simu(population, Verbose=True):\n",
        "    \"\"\" Cette fonction concatene tous les chemin de la population sous forme de tuples et retourne le ou les tuples \n",
        "    possedent le plus d'occurences \"\"\"\n",
        "    tout_chemin = []\n",
        "    compte = {}\n",
        "    for v in population: \n",
        "        tout_chemin = tout_chemin + liste2tuple(v.chemin) # concatene tous les chemins sous forme de tuple \n",
        "    \n",
        "    for valeur1, valeur2 in tout_chemin : # compte le nombre d'occurence de chaques tuples et le met dans un dico \n",
        "        if (valeur1,valeur2) and (valeur2,valeur1) not in compte: \n",
        "            compte[(valeur1,valeur2)]= tout_chemin.count((valeur1,valeur2)) + tout_chemin.count((valeur2,valeur1))\n",
        "    \n",
        "    maxi = 0\n",
        "    maxival = []\n",
        "    if Verbose : \n",
        "        print(compte)\n",
        "    for j,v in compte.items(): # permet de trouver le max exactement le même principe que route plus saturée  \n",
        "        if v>maxi:\n",
        "            maxi = v\n",
        "            maxiv = j\n",
        "    maxival.append(maxiv)\n",
        "    compte.pop(maxiv)\n",
        "    for i,k in compte.items():\n",
        "        if k == maxi:\n",
        "            maxival.append(i)\n",
        "    return maxival "
      ],
      "metadata": {
        "id": "-cK4GfxoMC_A"
      },
      "execution_count": 72,
      "outputs": []
    },
    {
      "cell_type": "code",
      "source": [
        "def nombre_voiture_passage_edge(population):\n",
        "    \"\"\" cette fonction concantene les chemin et un hist est creer pour représenter le nbr de voiture qui va passer sur\n",
        "    chaque edges. petit probleme (u,v)!=(v,u) dans l'hist ils correspondent donc à deux route \"\"\"\n",
        "    tout_chemin = []\n",
        "    compte = {}\n",
        "    for v in population: \n",
        "        tout_chemin = tout_chemin + liste2tuple(v.chemin)\n",
        "    for valeur1, valeur2 in tout_chemin : # compte le nombre d'occurence de chaques tuples et le met dans un dico \n",
        "        if (valeur1,valeur2) and (valeur2,valeur1) not in compte:\n",
        "            compte[(valeur1,valeur2)]= tout_chemin.count((valeur1,valeur2)) + tout_chemin.count((valeur2,valeur1))\n",
        "\n",
        "    abscisse = [str((y,x)) for (y,x),i in compte.items() ]\n",
        "    ordonne = [i for (y,x),i in compte.items()]\n",
        "    \n",
        "    plt.bar(abscisse,ordonne)"
      ],
      "metadata": {
        "id": "XBi4IYxbMI6V"
      },
      "execution_count": 73,
      "outputs": []
    },
    {
      "cell_type": "code",
      "source": [
        "def suppression_routes(villeg, nbroutes, Verbose = True) : \n",
        "    \"fonction qui prend un graph d'une ville et supprime nbroutes routes et renvoie le nouveau graph\"\n",
        "    ville = villeg.copy()\n",
        "    for i in range(nbroutes): \n",
        "        edges = nx.get_edge_attributes(ville,'len')\n",
        "        listOfKeys = list(edges.keys())\n",
        "        x = random.randint(0,len(listOfKeys)-1)\n",
        "        a,b = listOfKeys[x]\n",
        "        ville.remove_edge(a, b)\n",
        "        if Verbose : \n",
        "            print(\"edge : \",a,b,\" removed\")\n",
        "    return ville"
      ],
      "metadata": {
        "id": "MI7IH7yEMMRX"
      },
      "execution_count": 74,
      "outputs": []
    },
    {
      "cell_type": "code",
      "source": [
        "def villes_modifiées (villeg, n):\n",
        "    \"renvoie une liste qui contient la ville d'origine et n autres villes ou on a supprimé des villes au hasard\"\n",
        "    L = [villeg]\n",
        "    for i in range(n): \n",
        "        temp = villeg.copy()\n",
        "        ville = suppression_routes(temp,random.randint(1,2))\n",
        "        print()\n",
        "        L.append(ville)\n",
        "    return L"
      ],
      "metadata": {
        "id": "nkwFkUPgMPin"
      },
      "execution_count": 75,
      "outputs": []
    },
    {
      "cell_type": "code",
      "source": [
        "parisg = ville_graphe(paris1m, 3, 7 )"
      ],
      "metadata": {
        "colab": {
          "base_uri": "https://localhost:8080/",
          "height": 248
        },
        "id": "hezOy_x5MS6J",
        "outputId": "8a14bd0d-5e9d-47b5-c608-4ccc32fbb424"
      },
      "execution_count": 76,
      "outputs": [
        {
          "output_type": "display_data",
          "data": {
            "text/plain": [
              "<Figure size 432x288 with 1 Axes>"
            ],
            "image/png": "[encoded data removed]"
          },
          "metadata": {}
        }
      ]
    },
    {
      "cell_type": "code",
      "source": [
        "population = Voiture.spawn(Types_perc,nb_voitures,len(ville_1m),parisg,Proba_shortestpath)"
      ],
      "metadata": {
        "id": "-yZlQDJ8MWJs"
      },
      "execution_count": 77,
      "outputs": []
    },
    {
      "cell_type": "code",
      "source": [
        "def simulation(nbrvoiture,population,lenghtm, villeg, verbose=True, mapp = True, stat=True):\n",
        "    dictroute = nx.get_edge_attributes(villeg,'len')\n",
        "    restant = []\n",
        "    popu = copy.deepcopy(population)\n",
        "    route_plus_empreinte_simu = route_plus_parcouru_simu(popu,verbose)\n",
        "    co2emis = 0\n",
        "    \n",
        "    if verbose==True:\n",
        "        print(dictroute)\n",
        "        for j in popu:\n",
        "            print(j.chemin)\n",
        "        print(\"la route qui sera la plus empreintée lors de la simu est : \" + str(route_plus_empreinte_simu))\n",
        "    \n",
        "    \n",
        "    for i in range(10000):\n",
        "        for v in range(len(popu)):\n",
        "            change_distance(popu[v], villeg,False)\n",
        "            co2emis += co2_emission(popu[v].speed*10/3600,popu[v].type)\n",
        "            if popu[v].position[1]==100 and popu[v] not in restant:\n",
        "                restant.append(popu[v]) \n",
        "            if verbose:\n",
        "                print(\"voiture : \" + str(v) + \" pourcentage = \"+ str(popu[v].position[1]) + \" tuple pos = \" + str(popu[v].position[0]) + \" chemin est \" + str(popu[v].chemin))\n",
        "       \n",
        "        \n",
        "        \n",
        "        nb_voiture_par_route = nb_voiture_edge_temp_reel(popu)\n",
        "        route_sature = route_plus_sature(popu)\n",
        "        \n",
        "        if verbose:\n",
        "            print(\"\\nnombre de voiture sur chaques arretes: \" + str(nb_voiture_par_route) + \"\\n\")\n",
        "            print(\"la route la plus empreintée est : \" + str(route_sature) + \" avec : \" + str(nb_voiture_par_route[route_sature[0]]) + \" voitures\")\n",
        "        \n",
        "        if mapp:\n",
        "            color_ville_g(villeg, route_sature)\n",
        "            plt.show()\n",
        "        \n",
        "        if len(restant) == nbrvoiture:\n",
        "            if verbose:\n",
        "                print(\"Toutes les voitures sont arrivées\")\n",
        "                break\n",
        "    if stat:\n",
        "        plt.title(\"nombre de voitures par routes\")\n",
        "        plt.xlabel(\"nb voitures par routes\")\n",
        "        plt.ylabel(\"routes\")\n",
        "        print(\"nous pouvons bien voir que la/les route/s la/les plus empreinté/s est/sont : \" + str(route_plus_empreinte_simu))\n",
        "        nombre_voiture_passage_edge(popu) \n",
        "        plt.show()\n",
        "    \n",
        "    return co2emis "
      ],
      "metadata": {
        "id": "ysaELjKmMqkL"
      },
      "execution_count": 109,
      "outputs": []
    },
    {
      "cell_type": "code",
      "source": [
        "simulation(nb_voitures, population,len(paris1m), parisg, False, False, False)"
      ],
      "metadata": {
        "colab": {
          "base_uri": "https://localhost:8080/"
        },
        "id": "BlmaN-qxMvAX",
        "outputId": "e6a8b337-4c51-4324-af95-497ad7b67359"
      },
      "execution_count": 79,
      "outputs": [
        {
          "output_type": "execute_result",
          "data": {
            "text/plain": [
              "28.461111111110224"
            ]
          },
          "metadata": {},
          "execution_count": 79
        }
      ]
    },
    {
      "cell_type": "markdown",
      "source": [
        "**- Ici on prend une ville de départ et on construit avec plusieurs autres villes et chaque ville représente la ville d'origine en lui retirant des routes au hasard.**"
      ],
      "metadata": {
        "id": "ABFSbM9cNf6a"
      }
    },
    {
      "cell_type": "code",
      "source": [
        "Villes = villes_modifiées (parisg,10)"
      ],
      "metadata": {
        "colab": {
          "base_uri": "https://localhost:8080/"
        },
        "id": "EYt43HYcNrdo",
        "outputId": "3ba69c3b-9a0f-4317-a2b6-a770830144ff"
      },
      "execution_count": 80,
      "outputs": [
        {
          "output_type": "stream",
          "name": "stdout",
          "text": [
            "edge :  3 4  removed\n",
            "\n",
            "edge :  14 27  removed\n",
            "\n",
            "edge :  24 28  removed\n",
            "\n",
            "edge :  21 24  removed\n",
            "\n",
            "edge :  9 19  removed\n",
            "\n",
            "edge :  2 3  removed\n",
            "\n",
            "edge :  21 23  removed\n",
            "edge :  2 22  removed\n",
            "\n",
            "edge :  0 15  removed\n",
            "edge :  14 19  removed\n",
            "\n",
            "edge :  6 7  removed\n",
            "edge :  5 20  removed\n",
            "\n",
            "edge :  20 28  removed\n",
            "edge :  9 19  removed\n",
            "\n"
          ]
        }
      ]
    },
    {
      "cell_type": "code",
      "source": [
        "def simulations (villes, nbrvoiture,p ,lenghtm, verbose=True, mapp = True, stat=True): \n",
        "    x = []\n",
        "    y = []\n",
        "    minco2 = simulation(nb_voitures,p,lenghtm,villes[0],verbose,mapp,stat)\n",
        "    minindice = 0\n",
        "    for i in range(len(villes)):\n",
        "        x.append(i)\n",
        "        temp = simulation(nb_voitures,p,lenghtm,villes[i],verbose,mapp,stat)\n",
        "        y.append(temp)\n",
        "        if temp<minco2: \n",
        "            minco2 = temp\n",
        "            minindice = i\n",
        "        \n",
        "    plt.xlabel(\"le numero de la ville\")\n",
        "    plt.ylabel(\"taux de co2 emis\")\n",
        "    plt.plot(x,y)\n",
        "    plt.show()\n",
        "    \n",
        "    print ('la ville avec le moins demission de co2 est la ville numero',minindice+1)\n",
        "    pos = nx.spring_layout(villes[minindice])\n",
        "    nx.draw_networkx_edges(villes[minindice],pos,edgelist=None, width=1.0, edge_color='k', style='solid', alpha=None, arrowstyle='-|>', arrowsize=10, edge_cmap=None, edge_vmin=None, edge_vmax=None, ax=None, arrows=True, label=None, node_size=300, nodelist=None, node_shape='o', connectionstyle='arc3', min_source_margin=0, min_target_margin=0)\n",
        "    nx.draw_networkx_edge_labels(villes[minindice], pos)\n",
        "    nx.draw(villes[minindice], pos, with_labels=True)"
      ],
      "metadata": {
        "id": "fNDfqE4sN0QT"
      },
      "execution_count": 81,
      "outputs": []
    },
    {
      "cell_type": "code",
      "source": [
        "simulations(Villes,nb_voitures, population,len(paris1m), False, False, False)\n"
      ],
      "metadata": {
        "colab": {
          "base_uri": "https://localhost:8080/",
          "height": 527
        },
        "id": "cL0QNyi3N4mE",
        "outputId": "673ca15d-bd38-40ea-f784-9d2814cf3fdd"
      },
      "execution_count": 82,
      "outputs": [
        {
          "output_type": "display_data",
          "data": {
            "text/plain": [
              "<Figure size 432x288 with 1 Axes>"
            ],
            "image/png": "[encoded data removed]"
          },
          "metadata": {
            "needs_background": "light"
          }
        },
        {
          "output_type": "stream",
          "name": "stdout",
          "text": [
            "la ville avec le moins demission de co2 est la ville numero 1\n"
          ]
        },
        {
          "output_type": "display_data",
          "data": {
            "text/plain": [
              "<Figure size 432x288 with 1 Axes>"
            ],
            "image/png": "[encoded data removed]"
          },
          "metadata": {}
        }
      ]
    },
    {
      "cell_type": "markdown",
      "source": [
        "**-Ici on fait varier le pourcentage de prendre le chemin le plus court**"
      ],
      "metadata": {
        "id": "KqdoGlhkODXL"
      }
    },
    {
      "cell_type": "code",
      "source": [
        "def populations(population,ville): \n",
        "    \"Prend en paramétre une population d'origine pour avoir les meme parametre et on change seulement le chemin\"\n",
        "    L = []\n",
        "    for i in range (1,11):\n",
        "        popu = copy.deepcopy(population)\n",
        "        for v in popu:\n",
        "            v.chemin =path_choice (i/10.0,ville,v.positiondepart, v.positionarrivé)\n",
        "        L.append(popu)\n",
        "    return L"
      ],
      "metadata": {
        "id": "XCUXqcnDOIEd"
      },
      "execution_count": 83,
      "outputs": []
    },
    {
      "cell_type": "code",
      "source": [
        "def simulations2 (ville, nbrvoiture,Listepopu ,lenghtm, verbose=True, mapp = True, stat=True): \n",
        "    x = []\n",
        "    y = []\n",
        "    minco2 = simulation(nb_voitures,Listepopu[0],lenghtm,ville,verbose,mapp,stat)\n",
        "    minindice = 0\n",
        "    for i in range(len(Listepopu)):\n",
        "        x.append(i)\n",
        "        temp = simulation(nb_voitures,Listepopu[i],lenghtm,ville,verbose,mapp,stat)\n",
        "        y.append(temp)\n",
        "        if temp<minco2: \n",
        "            minco2 = temp\n",
        "            minindice = i\n",
        "        \n",
        "    plt.xlabel(\"le numero de la population\")\n",
        "    plt.ylabel(\"taux de co2 emis\")\n",
        "    plt.plot(x,y)\n",
        "    plt.show()\n",
        "    \n",
        "    print ('la popilation avec le moins demission de co2 est la population numero',minindice+1)"
      ],
      "metadata": {
        "id": "NWZvx0ePOMrQ"
      },
      "execution_count": 84,
      "outputs": []
    },
    {
      "cell_type": "code",
      "source": [
        "popu2 = Voiture.spawn(Types_perc,nb_voitures,len(ville_1m),parisg, Proba_shortestpath)"
      ],
      "metadata": {
        "id": "0zNDq2R3OTjp"
      },
      "execution_count": 85,
      "outputs": []
    },
    {
      "cell_type": "code",
      "source": [
        "Listepopu = populations(popu2,parisg)"
      ],
      "metadata": {
        "id": "t8F5-P4nOr47"
      },
      "execution_count": 86,
      "outputs": []
    },
    {
      "cell_type": "code",
      "source": [
        "simulations2(parisg,nb_voitures, Listepopu,len(paris1m), False, False, False)"
      ],
      "metadata": {
        "colab": {
          "base_uri": "https://localhost:8080/",
          "height": 296
        },
        "id": "XbGKOZL4OvaY",
        "outputId": "af6af78e-27dc-451c-d02d-ad6d5263d785"
      },
      "execution_count": 121,
      "outputs": [
        {
          "output_type": "display_data",
          "data": {
            "text/plain": [
              "<Figure size 432x288 with 1 Axes>"
            ],
            "image/png": "[encoded data removed]"
          },
          "metadata": {
            "needs_background": "light"
          }
        },
        {
          "output_type": "stream",
          "name": "stdout",
          "text": [
            "la popilation avec le moins demission de co2 est la population numero 10\n"
          ]
        }
      ]
    },
    {
      "cell_type": "markdown",
      "source": [
        "# Dynamique \n",
        "\n",
        "La dynamique est la suivante soit une voiture prit dans la liste on regarde tous les autres voitures et on regarde si elle possède des voisins(voitures devant ou derrière elle) si elle en a pas devant elle alors :\n",
        "elle peut accélérer selon une probabilité pour créer un système de comportement qui diffère des individus sinon si le pourcentage de deux vehicules est inférieur à l (mesure pour exprimer la distance de sécurité entre deux voiture ) alors la voiture avec le plus faible pourcentage décélère tout en ayant une vitesse plus grande que celle derrière elle , si la distance entre deux voiture est plus petite que eps alors on considère que deux voitures se sont entre choqué et on considère un état de bouchon où toute les voitures de la route sont bloqué on fera en sorte que les voitures qui ne sont pas dans le bouchon essaierons de chercher un autre chemin que celle de la route bouché si possible sinon elle entrainerons un bouchon continu jusqu'a que le problème soit réglé Hypothétiquement nous pourrons prendre en compte l'état du conducteur ( normal ,bourré,drogué ) , l'age du conducteur et son sexe. "
      ],
      "metadata": {
        "id": "wR3F5oEGP7oN"
      }
    },
    {
      "cell_type": "code",
      "source": [
        "def make_all_route(route):\n",
        "    \"\"\"Fonction qui crée un dictionnaire tuple,longueur mais avec cette fois toute les tuples ex(10,11) et (11,10)\n",
        "    afin de créer toute les routes possibles pour la fonction leader_follow \"\"\"\n",
        "    res = {}\n",
        "    for (tuples,longueur) in route.items():\n",
        "        a,b=tuples\n",
        "        res[(a,b)]=longueur\n",
        "        res[(b,a)]=longueur\n",
        "    return res "
      ],
      "metadata": {
        "id": "mUREt2yDQye8"
      },
      "execution_count": 88,
      "outputs": []
    },
    {
      "cell_type": "code",
      "source": [
        "print(make_all_route(nx.get_edge_attributes(parisg,'len')))"
      ],
      "metadata": {
        "colab": {
          "base_uri": "https://localhost:8080/"
        },
        "id": "carKm4DUQqKv",
        "outputId": "57899aac-06f2-4a4a-8eb9-e8a76e2af027"
      },
      "execution_count": 89,
      "outputs": [
        {
          "output_type": "stream",
          "name": "stdout",
          "text": [
            "{(0, 1): 3, (1, 0): 3, (0, 10): 5, (10, 0): 5, (0, 15): 3, (15, 0): 3, (1, 2): 5, (2, 1): 5, (1, 26): 6, (26, 1): 6, (2, 3): 3, (3, 2): 3, (2, 22): 3, (22, 2): 3, (3, 4): 4, (4, 3): 4, (3, 21): 3, (21, 3): 3, (4, 5): 5, (5, 4): 5, (4, 23): 7, (23, 4): 7, (5, 6): 3, (6, 5): 3, (5, 20): 3, (20, 5): 3, (6, 7): 7, (7, 6): 7, (6, 12): 6, (12, 6): 6, (7, 8): 3, (8, 7): 3, (7, 29): 5, (29, 7): 5, (8, 9): 4, (9, 8): 4, (8, 13): 4, (13, 8): 4, (9, 10): 7, (10, 9): 7, (9, 19): 5, (19, 9): 5, (10, 27): 5, (27, 10): 5, (11, 12): 5, (12, 11): 5, (11, 25): 5, (25, 11): 5, (11, 28): 4, (28, 11): 4, (11, 29): 3, (29, 11): 3, (12, 20): 6, (20, 12): 6, (13, 18): 5, (18, 13): 5, (13, 19): 5, (19, 13): 5, (13, 29): 6, (29, 13): 6, (14, 17): 7, (17, 14): 7, (14, 19): 3, (19, 14): 3, (14, 27): 4, (27, 14): 4, (15, 17): 5, (17, 15): 5, (16, 17): 3, (17, 16): 3, (16, 22): 6, (22, 16): 6, (16, 26): 4, (26, 16): 4, (17, 25): 3, (25, 17): 3, (17, 27): 5, (27, 17): 5, (18, 19): 4, (19, 18): 4, (18, 25): 7, (25, 18): 7, (20, 28): 4, (28, 20): 4, (21, 22): 5, (22, 21): 5, (21, 23): 6, (23, 21): 6, (21, 24): 4, (24, 21): 4, (22, 25): 5, (25, 22): 5, (23, 28): 7, (28, 23): 7, (24, 25): 7, (25, 24): 7, (24, 28): 5, (28, 24): 5}\n"
          ]
        }
      ]
    },
    {
      "cell_type": "code",
      "source": [
        "def search_car(pos,liste_voiture):\n",
        "    \"\"\"Renvoie une liste de toutes les voitures dans la node (x,y) parmi toutes les voitures\"\"\"\n",
        "    res=[]\n",
        "    for v in liste_voiture:\n",
        "        if v.position[0]==pos:\n",
        "            res.append(v)\n",
        "    return res "
      ],
      "metadata": {
        "id": "hcOPtgs2Rj62"
      },
      "execution_count": 90,
      "outputs": []
    },
    {
      "cell_type": "code",
      "source": [
        "car=Voiture.spawn(Types_perc,30,len(ville_1m),parisg, Proba_shortestpath)\n",
        "net=search_car((1,2),car)\n",
        "for i in range(len(net)):\n",
        "  print(net[i].position[0],net[i].position[1])"
      ],
      "metadata": {
        "colab": {
          "base_uri": "https://localhost:8080/"
        },
        "id": "AsARwGTpPPEK",
        "outputId": "7b504e40-7315-4147-eac1-c91e2c5a6463"
      },
      "execution_count": 91,
      "outputs": [
        {
          "output_type": "stream",
          "name": "stdout",
          "text": [
            "(1, 2) 0.0\n",
            "(1, 2) 0.0\n"
          ]
        }
      ]
    },
    {
      "cell_type": "code",
      "source": [
        "def trie_voiture(l):\n",
        "    \"\"\"Renvoie une liste de voiture trié par pourcentage (ordre croissant) \n",
        "    hypothèse : on suppose qu'il sont dans la même node \"\"\"\n",
        "    n=None\n",
        "    p=n\n",
        "    for i in range(len(l)):\n",
        "        for j in range(len(l)-(i+1)):\n",
        "            if l[j].position[1]>l[j+1].position[1]:\n",
        "                n=l[j]\n",
        "                l[j]=l[j+1]\n",
        "                l[j+1]=n\n",
        "            if n==p:\n",
        "                return None\n",
        "    "
      ],
      "metadata": {
        "id": "IFhoWg-TS0Vd"
      },
      "execution_count": 93,
      "outputs": []
    },
    {
      "cell_type": "code",
      "source": [
        "def liste_decroissante(liste):\n",
        "  \"\"\"Prend une liste trié de vehicule en ordre croissant et renvoie la même liste à la différence notable qu'elle est trié en\n",
        "  ordre décroissant \"\"\"\n",
        "  res=[]\n",
        "  i = len(liste) -1\n",
        "  while(i>=0):\n",
        "    res.append(v[i])\n",
        "    i=i-1\n",
        "  return res "
      ],
      "metadata": {
        "id": "t_pwNlXd5POQ"
      },
      "execution_count": 94,
      "outputs": []
    },
    {
      "cell_type": "code",
      "source": [
        "v= Voiture.spawn(Types_perc,nb_voitures,len(ville_1m),parisg,Proba_shortestpath)\n",
        "l1=[29.3,12.5,19.8,6.9,55.1,44.4,77.8,23.6,65.2,55.8]\n",
        "for j in range(len(v)):\n",
        "  v[j].position=(v[j].position[0],l1[j])\n",
        "trie_voiture(v)\n",
        "for i in range(len(v)):\n",
        "  print(v[i].position[0],v[i].position[1])\n",
        "v=liste_decroissante(v)\n",
        "print(\"ok\")\n",
        "for i in range(len(v)):\n",
        "  print(v[i].position[0],v[i].position[1])"
      ],
      "metadata": {
        "colab": {
          "base_uri": "https://localhost:8080/"
        },
        "id": "XcRdPFwJS6Qr",
        "outputId": "8f32f774-40f9-4baf-80aa-b7d9ff70cd8a"
      },
      "execution_count": 95,
      "outputs": [
        {
          "output_type": "stream",
          "name": "stdout",
          "text": [
            "(10, 27) 6.9\n",
            "(5, 6) 12.5\n",
            "(11, 25) 19.8\n",
            "(11, 28) 23.6\n",
            "(1, 2) 29.3\n",
            "(2, 1) 44.4\n",
            "(6, 5) 55.1\n",
            "(10, 9) 55.8\n",
            "(9, 10) 65.2\n",
            "(8, 9) 77.8\n",
            "ok\n",
            "(8, 9) 77.8\n",
            "(9, 10) 65.2\n",
            "(10, 9) 55.8\n",
            "(6, 5) 55.1\n",
            "(2, 1) 44.4\n",
            "(1, 2) 29.3\n",
            "(11, 28) 23.6\n",
            "(11, 25) 19.8\n",
            "(5, 6) 12.5\n",
            "(10, 27) 6.9\n"
          ]
        }
      ]
    },
    {
      "cell_type": "code",
      "source": [
        "def dict_node_vehicule(liste_voiture,ville):\n",
        "    \"\"\"Une fonction qui prend en paramètre une liste de voiture et une ville afin d'obtenir dans un dictionnaire pour chaque couple de \n",
        "    node de la ville une liste qui représente les véhicules dans la node trié en ordre décroissant (j'aurais pu laisser en ordre croissant mais pour la \n",
        "    boucle cela me semblerai plus simple à manipuler quand on va faire des actions sur la vitesse des véhicules) \"\"\"\n",
        "    v_all={}     \n",
        "    tmp =[] \n",
        "    \"\"\"\" dictionnairaire qui va me récupérer toutes les voitures d'un tuple de node\"\"\"\n",
        "    all_node=make_all_route(nx.get_edge_attributes(ville,'len'))\n",
        "    for (k,v) in all_node.items():\n",
        "        tmp=search_car(k,liste_voiture)\n",
        "        trie_voiture(tmp)\n",
        "        v_all[k]=tmp\n",
        "    \"\"\"Pour des raisons obsures je ne peux pas utiliser la fonction liste_decroissante dans cette fonction donc les listes sont \n",
        "    ordonnée en ordre croissant  \"\"\"\n",
        "    return v_all \n"
      ],
      "metadata": {
        "id": "rPwzGqlN3GG0"
      },
      "execution_count": 99,
      "outputs": []
    },
    {
      "cell_type": "code",
      "source": [
        "test = Voiture.spawn(Types_perc,nb_voitures,len(ville_1m),parisg,Proba_shortestpath)\n",
        "print(len(test))\n",
        "dico = dict_node_vehicule(test,parisg)\n",
        "j=0\n",
        "for (k,v) in dico.items():\n",
        "  for i in range(len(v)):\n",
        "    if(j<6):\n",
        "      print(v[i].position[0],v[i].position[1])\n",
        "      j=j+1\n",
        "    else:\n",
        "      break "
      ],
      "metadata": {
        "colab": {
          "base_uri": "https://localhost:8080/"
        },
        "id": "P-ehwaYH-PZX",
        "outputId": "96dc8f43-3a68-466f-e10f-06a7422a03b7"
      },
      "execution_count": 100,
      "outputs": [
        {
          "output_type": "stream",
          "name": "stdout",
          "text": [
            "10\n",
            "(0, 1) 0.0\n",
            "(0, 1) 0.0\n",
            "(1, 0) 0.0\n",
            "(10, 0) 0.0\n",
            "(2, 1) 0.0\n",
            "(3, 4) 0.0\n"
          ]
        }
      ]
    },
    {
      "cell_type": "code",
      "source": [
        "def var_vitesse(dv):\n",
        "  \"\"\"Fonction qui doit changer la vitesse de toutes les voitures en faisant une boucle sur deux voitures et qui décident de leur comportement\n",
        "  (changement de vitesse selon la vitesse rêvé  mis dans le paramètre de la voiture) en fonction de la distance qui les séparent de la voiture devant eux \n",
        "  ralentisse si une voiture est proche d'elle (par devant) bien sur la première voiture de la route peut accelérer comme elle le souaite  \n",
        "  A definir : la distance entre deux voitures pour laquelle la voiture peut accelerer ou ralentir \n",
        "  Paramètres : dictionnaire de liste de voiture \"\"\"\n",
        "  \"\"\"Note : les listes du dictionnaires sont pour l'instant en ordre croissant \"\"\"\n",
        "  for (k,v) in dv.items():\n",
        "      i=len(v)-1\n",
        "      while(i>=1):\n",
        "        if(i==len(v)-1):\n",
        "          if(v[i].position[1]>89):\n",
        "            v[i].speed=v[i].speed+(v[i].dreamspeed/4)\n",
        "            \n",
        "          else:\n",
        "            v[i].speed=v[i].speed+(v[i].dreamspeed/2)\n",
        "            \n",
        "        else:\n",
        "          if(abs(v[i+1].position[1]-v[i].position[1])<3):\n",
        "            v[i].speed=v[i].speed*0.05\n",
        "            \n",
        "          elif(abs(v[i+1].position[1]-v[i].position[1])<=5):\n",
        "            v[i].speed=v[i].speed*0.20\n",
        "\n",
        "          elif(abs(v[i+1].position[1]-v[i].position[1])>=35):\n",
        "            v[i].speed=v[i].speed+(v[i].dreamspeed/3)\n",
        "\n",
        "          else:\n",
        "            v[i].speed=v[i].speed+(v[i].dreamspeed/4)\n",
        "        if(v[i].speed > v[i].dreamspeed):\n",
        "          v[i].speed=v[i].dreamspeed\n",
        "        \"fait pour limiter la vitesse actuelle à vitesse dream vous pouvez l'enlever si vous voulez cela change un peu les resultats \"\n",
        "        i=i-1\n",
        "        \n",
        "\n",
        "      \n",
        "\n",
        "\n",
        "\n",
        "\n"
      ],
      "metadata": {
        "id": "RFAhS2JtCx5l"
      },
      "execution_count": 140,
      "outputs": []
    },
    {
      "cell_type": "markdown",
      "source": [
        "j'ai mis des valeurs au pif pour les changements de vitesse des vehicules \n",
        "si vous voulez changer les valeurs allez-y "
      ],
      "metadata": {
        "id": "ZeLaA0h4ceZO"
      }
    },
    {
      "cell_type": "code",
      "source": [
        ""
      ],
      "metadata": {
        "id": "I-gQZNVxdcVB"
      },
      "execution_count": 102,
      "outputs": []
    },
    {
      "cell_type": "markdown",
      "source": [
        "Test avec les fonctions de simulations "
      ],
      "metadata": {
        "id": "fe6GUtFCtO4R"
      }
    },
    {
      "cell_type": "code",
      "source": [
        "def simulation1(nbrvoiture,population,lenghtm, villeg, verbose=True, mapp = True, stat=True):\n",
        "    dictroute = nx.get_edge_attributes(villeg,'len')\n",
        "    restant = []\n",
        "    popu = copy.deepcopy(population)\n",
        "    route_plus_empreinte_simu = route_plus_parcouru_simu(popu,verbose)\n",
        "    routes_et_nodes = dict_node_vehicule(popu,villeg)\n",
        "    co2emis = 0\n",
        "    \n",
        "    if verbose==True:\n",
        "        print(dictroute)\n",
        "        for j in popu:\n",
        "            print(j.chemin)\n",
        "        print(\"la route qui sera la plus empreintée lors de la simu est : \" + str(route_plus_empreinte_simu))\n",
        "    \n",
        "    \n",
        "    for i in range(10000):\n",
        "        for v in range(len(popu)):\n",
        "            change_distance(popu[v], villeg,False)\n",
        "            co2emis += co2_emission(popu[v].speed*10/3600,popu[v].type)\n",
        "            var_vitesse(routes_et_nodes)\n",
        "            routes_et_nodes = dict_node_vehicule(popu,villeg)\n",
        "            if popu[v].position[1]==100 and popu[v] not in restant:\n",
        "                restant.append(popu[v]) \n",
        "            if verbose:\n",
        "                print(\"voiture : \" + str(v) + \" pourcentage = \"+ str(popu[v].position[1]) + \" tuple pos = \" + str(popu[v].position[0]) + \" chemin est \" + str(popu[v].chemin))\n",
        "       \n",
        "        \n",
        "        \n",
        "        nb_voiture_par_route = nb_voiture_edge_temp_reel(popu)\n",
        "        route_sature = route_plus_sature(popu)\n",
        "        \n",
        "        if verbose:\n",
        "            print(\"\\nnombre de voiture sur chaques arretes: \" + str(nb_voiture_par_route) + \"\\n\")\n",
        "            print(\"la route la plus empreintée est : \" + str(route_sature) + \" avec : \" + str(nb_voiture_par_route[route_sature[0]]) + \" voitures\")\n",
        "        \n",
        "        if mapp:\n",
        "            color_ville_g(villeg, route_sature)\n",
        "            plt.show()\n",
        "        \n",
        "        if len(restant) == nbrvoiture:\n",
        "            if verbose:\n",
        "                print(\"Toutes les voitures sont arrivées\")\n",
        "                break\n",
        "    if stat:\n",
        "        plt.title(\"nombre de voitures par routes\")\n",
        "        plt.xlabel(\"nb voitures par routes\")\n",
        "        plt.ylabel(\"routes\")\n",
        "        print(\"nous pouvons bien voir que la/les route/s la/les plus empreinté/s est/sont : \" + str(route_plus_empreinte_simu))\n",
        "        nombre_voiture_passage_edge(popu) \n",
        "        plt.show()\n",
        "    \n",
        "    return co2emis "
      ],
      "metadata": {
        "id": "jmkCxusoOzo5"
      },
      "execution_count": 113,
      "outputs": []
    },
    {
      "cell_type": "code",
      "source": [
        "simulation1(nb_voitures, population,len(paris1m), parisg, False, False, False)"
      ],
      "metadata": {
        "colab": {
          "base_uri": "https://localhost:8080/"
        },
        "id": "2Cq7f1a4thHH",
        "outputId": "31fc28cf-7f74-406d-bce8-9c75a0bf145a"
      },
      "execution_count": 141,
      "outputs": [
        {
          "output_type": "execute_result",
          "data": {
            "text/plain": [
              "28.44058333333239"
            ]
          },
          "metadata": {},
          "execution_count": 141
        }
      ]
    },
    {
      "cell_type": "code",
      "source": [
        "def simulations20 (ville, nbrvoiture,Listepopu ,lenghtm, verbose=True, mapp = True, stat=True): \n",
        "    x = []\n",
        "    y = []\n",
        "    minco2 = simulation(nb_voitures,Listepopu[0],lenghtm,ville,verbose,mapp,stat)\n",
        "    minindice = 0\n",
        "    for i in range(len(Listepopu)):\n",
        "        x.append(i)\n",
        "        temp = simulation1(nb_voitures,Listepopu[i],lenghtm,ville,verbose,mapp,stat)\n",
        "        y.append(temp)\n",
        "        if temp<minco2: \n",
        "            minco2 = temp\n",
        "            minindice = i\n",
        "        \n",
        "    plt.xlabel(\"le numero de la population\")\n",
        "    plt.ylabel(\"taux de co2 emis\")\n",
        "    plt.plot(x,y)\n",
        "    plt.show()\n",
        "    \n",
        "    print ('la popilation avec le moins demission de co2 est la population numero',minindice+1)"
      ],
      "metadata": {
        "id": "jDb3s3WOu-wX"
      },
      "execution_count": 122,
      "outputs": []
    },
    {
      "cell_type": "code",
      "source": [
        "simulations20(parisg,nb_voitures, Listepopu,len(paris1m), False, False, False)"
      ],
      "metadata": {
        "colab": {
          "base_uri": "https://localhost:8080/",
          "height": 296
        },
        "id": "s7nj-tf7wctf",
        "outputId": "fecc328c-2a8a-4fa9-da9a-6c8efcdf8cdd"
      },
      "execution_count": 142,
      "outputs": [
        {
          "output_type": "display_data",
          "data": {
            "text/plain": [
              "<Figure size 432x288 with 1 Axes>"
            ],
            "image/png": "[encoded data removed]"
          },
          "metadata": {
            "needs_background": "light"
          }
        },
        {
          "output_type": "stream",
          "name": "stdout",
          "text": [
            "la popilation avec le moins demission de co2 est la population numero 10\n"
          ]
        }
      ]
    },
    {
      "cell_type": "code",
      "source": [
        ""
      ],
      "metadata": {
        "id": "tMK48raPwmYN"
      },
      "execution_count": null,
      "outputs": []
    },
    {
      "cell_type": "markdown",
      "source": [
        "Simulation20 est très long \n"
      ],
      "metadata": {
        "id": "Mn_Sn0EX5V12"
      }
    },
    {
      "cell_type": "code",
      "source": [
        ""
      ],
      "metadata": {
        "id": "mxBih-Aw5Z3H"
      },
      "execution_count": null,
      "outputs": []
    }
  ]
}