{
 "cells": [
  {
   "cell_type": "code",
   "execution_count": 5,
   "id": "b0d7f63e",
   "metadata": {},
   "outputs": [],
   "source": [
    "import numpy as np\n",
    "import pandas as pd \n",
    "import networkx as nx\n",
    "import random\n",
    "import matplotlib.pyplot as plt"
   ]
  },
  {
   "cell_type": "code",
   "execution_count": 7,
   "id": "fa8bdb7e",
   "metadata": {},
   "outputs": [],
   "source": [
    "G = dict()\n",
    "G['a'] = ['b','c']\n",
    "G['b'] = ['a','d','e']\n",
    "G['c'] = ['a','d']\n",
    "G['d'] = ['b','c','e']\n",
    "G['e'] = ['b','d','f','g']\n",
    "G['f'] = ['e','g']\n",
    "G['g'] = ['e','f','h']\n",
    "G['h'] = ['g']"
   ]
  },
  {
   "cell_type": "code",
   "execution_count": 8,
   "id": "e9561bbf",
   "metadata": {},
   "outputs": [],
   "source": [
    "def bfs(G, S):\n",
    "\tcouleur = dict()\n",
    "\tfor x in G :\n",
    "\t\tcouleur[x] = 'blanc'\n",
    "\tP = dict()\n",
    "\tP[S] = None\n",
    "\tcouleur[S] = 'gris'\n",
    "\tQ = [S]\n",
    "\twhile Q :\n",
    "\t\tu = Q[0]\n",
    "\t\tfor v in G[u]:\n",
    "\t\t\tif couleur[v] == 'blanc':\n",
    "\t\t\t\tP[v] = u\n",
    "\t\t\t\tcouleur[v] = 'gris'\n",
    "\t\t\t\tQ.append(v)\n",
    "\t\tQ.pop(0)\n",
    "\t\tcouleur[u] = 'noir'\n",
    "\treturn P"
   ]
  },
  {
   "cell_type": "code",
   "execution_count": 10,
   "id": "efb6aa11",
   "metadata": {},
   "outputs": [
    {
     "name": "stdout",
     "output_type": "stream",
     "text": [
      "{'c': None, 'a': 'c', 'd': 'c', 'b': 'a', 'e': 'd', 'f': 'e', 'g': 'e', 'h': 'g'}\n"
     ]
    }
   ],
   "source": [
    "print(bfs(G,'c'))"
   ]
  },
  {
   "cell_type": "code",
   "execution_count": 15,
   "id": "dd5a14bd",
   "metadata": {},
   "outputs": [
    {
     "name": "stdout",
     "output_type": "stream",
     "text": [
      "A B C D E F "
     ]
    }
   ],
   "source": [
    "graph = {\n",
    "  'A' : ['B','C'],\n",
    "  'B' : ['D', 'E'],\n",
    "  'C' : ['F'],\n",
    "  'D' : [],\n",
    "  'E' : ['F'],\n",
    "  'F' : []\n",
    "}\n",
    "\n",
    "visited = [] # List to keep track of visited nodes.\n",
    "queue = []     #Initialize a queue\n",
    "\n",
    "def bfs1(visited, graph, node):\n",
    "  visited.append(node)\n",
    "  queue.append(node)\n",
    "\n",
    "  while queue:\n",
    "    s = queue.pop(0) \n",
    "    print (s, end = \" \") \n",
    "\n",
    "    for neighbour in graph[s]:\n",
    "      if neighbour not in visited:\n",
    "        visited.append(neighbour)\n",
    "        queue.append(neighbour)\n",
    "\n",
    "# Driver Code\n",
    "bfs1(visited, graph, 'A')"
   ]
  }
 ],
 "metadata": {
  "kernelspec": {
   "display_name": "Python 3 (ipykernel)",
   "language": "python",
   "name": "python3"
  },
  "language_info": {
   "codemirror_mode": {
    "name": "ipython",
    "version": 3
   },
   "file_extension": ".py",
   "mimetype": "text/x-python",
   "name": "python",
   "nbconvert_exporter": "python",
   "pygments_lexer": "ipython3",
   "version": "3.9.7"
  }
 },
 "nbformat": 4,
 "nbformat_minor": 5
}
