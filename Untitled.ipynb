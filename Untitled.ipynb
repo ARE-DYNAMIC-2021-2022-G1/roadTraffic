{
 "cells": [
  {
   "cell_type": "code",
   "execution_count": 1,
   "metadata": {},
   "outputs": [],
   "source": [
    "import matplotlib.pyplot as plt\n",
    "import networkx as nx\n",
    "import numpy as np\n",
    "from networkx.algorithms import community,k_components\n",
    "import random"
   ]
  },
  {
   "cell_type": "code",
   "execution_count": 36,
   "metadata": {},
   "outputs": [],
   "source": [
    "Types = {'electrique': 1000, 'thermique':2424}"
   ]
  },
  {
   "cell_type": "code",
   "execution_count": 37,
   "metadata": {},
   "outputs": [],
   "source": [
    "Types_vitesseslimit = {'electrique': 200, 'thermique':150}"
   ]
  },
  {
   "cell_type": "code",
   "execution_count": 38,
   "metadata": {},
   "outputs": [],
   "source": [
    "Types_perc = {'electrique': 0.5, 'thermique':0.5}"
   ]
  },
  {
   "cell_type": "code",
   "execution_count": 57,
   "metadata": {},
   "outputs": [],
   "source": [
    "class Voiture:\n",
    "    nbr_voiture = 0\n",
    "    def __init__(self,typee,positiondepart,positionarrivé,positionactuelle,vitesse):\n",
    "        self.type = typee\n",
    "        self.speed = vitesse \n",
    "        self.position = positionactuelle\n",
    "        self.positiondepart = positiondepart\n",
    "        self.positionarrivé = positionarrivé\n",
    "        Voiture.nbr_voiture += 1\n",
    "    def spawn(typesperc,nbr):\n",
    "        system=[]\n",
    "        for i in range(round(nbr*typesperc['electrique'])):\n",
    "            system.append(\"voiture\"+str(i+1))\n",
    "            system[i]= Voiture('electrique',0,0,0,Types_vitesseslimit['electrique'])\n",
    "        for j in range(round(nbr*typesperc['thermique']), nbr):\n",
    "            system.append(\"voiture\"+str(j+1))\n",
    "            system[j]= Voiture('thermique',0,0,0,Types_vitesseslimit['thermique'])\n",
    "        return system"
   ]
  },
  {
   "cell_type": "code",
   "execution_count": 60,
   "metadata": {},
   "outputs": [
    {
     "name": "stdout",
     "output_type": "stream",
     "text": [
      "le type de voiture de v1 est thermique\n",
      "v2 est de type Electrique\n",
      "electrique 200 0 0 0\n",
      "electrique 200 0 0 0\n",
      "electrique 200 0 0 0\n",
      "thermique 150 0 0 0\n",
      "thermique 150 0 0 0\n",
      "thermique 150 0 0 0\n"
     ]
    }
   ],
   "source": [
    "v1 = Voiture(\"thermique\",0,0,0,130)\n",
    "print(\"le type de voiture de v1 est {}\".format(v1.type))\n",
    "v2 = Voiture(\"Electrique\",0,0,0,150)\n",
    "print(\"v2 est de type {}\".format(v2.type))\n",
    "v=Voiture.spawn(Types_perc,6)\n",
    "for i in range(6):\n",
    "    print(format(v[i].type),format(v[i].speed),format(v[i].position),format(v[i].positiondepart),format(v[i].positionarrivé))\n"
   ]
  },
  {
   "cell_type": "code",
   "execution_count": 2,
   "metadata": {},
   "outputs": [],
   "source": [
    "def matrice_ville(i,j):\n",
    "    return [[0 for x in range(i)] for y in range(j)] "
   ]
  },
  {
   "cell_type": "code",
   "execution_count": 3,
   "metadata": {},
   "outputs": [],
   "source": [
    "ville_1m = [[0, 0, 0, 0, 0, 0, 0, 0, 1, 0, 0, 0],\n",
    "[0, 0, 0, 0, 0, 0, 0, 0, 0, 0, 0, 1],\n",
    "[0, 0, 0, 0, 0, 0, 0, 0, 0, 0, 0, 1],\n",
    "[0, 0, 0, 0, 0, 0, 0, 0, 0, 0, 1, 0],\n",
    "[0, 0, 0, 0, 0, 0, 0, 0, 0, 0, 1, 0],\n",
    "[0, 0, 0, 0, 0, 0, 0, 0, 0, 1, 0, 0] ,\n",
    "[0, 0, 0, 0, 0, 0, 0, 0, 0, 1, 0, 0] ,\n",
    "[0, 0, 0, 0, 0, 0, 0, 0, 1, 0, 0, 0] ,\n",
    "[0, 0, 0, 0, 0, 0, 0, 1, 0, 1, 0, 1] ,\n",
    "[0, 0, 0, 0, 0, 1, 1, 0, 1, 0, 1, 0],\n",
    "[0, 0, 0, 1, 1, 0, 0, 0, 0, 1, 0, 1],\n",
    "[0, 1, 1, 0, 0, 0, 0, 0, 1, 0, 1, 0]] "
   ]
  },
  {
   "cell_type": "code",
   "execution_count": 4,
   "metadata": {},
   "outputs": [
    {
     "data": {
      "text/plain": [
       "[[0, 0, 0, 0, 0, 0, 0, 0, 1, 0, 0, 0],\n",
       " [0, 0, 0, 0, 0, 0, 0, 0, 0, 0, 0, 1],\n",
       " [0, 0, 0, 0, 0, 0, 0, 0, 0, 0, 0, 1],\n",
       " [0, 0, 0, 0, 0, 0, 0, 0, 0, 0, 1, 0],\n",
       " [0, 0, 0, 0, 0, 0, 0, 0, 0, 0, 1, 0],\n",
       " [0, 0, 0, 0, 0, 0, 0, 0, 0, 1, 0, 0],\n",
       " [0, 0, 0, 0, 0, 0, 0, 0, 0, 1, 0, 0],\n",
       " [0, 0, 0, 0, 0, 0, 0, 0, 1, 0, 0, 0],\n",
       " [0, 0, 0, 0, 0, 0, 0, 1, 0, 1, 0, 1],\n",
       " [0, 0, 0, 0, 0, 1, 1, 0, 1, 0, 1, 0],\n",
       " [0, 0, 0, 1, 1, 0, 0, 0, 0, 1, 0, 1],\n",
       " [0, 1, 1, 0, 0, 0, 0, 0, 1, 0, 1, 0]]"
      ]
     },
     "execution_count": 4,
     "metadata": {},
     "output_type": "execute_result"
    }
   ],
   "source": [
    "ville_1m"
   ]
  },
  {
   "cell_type": "code",
   "execution_count": 29,
   "metadata": {},
   "outputs": [],
   "source": [
    "def ville_graphe(ville_m,i,lenmin,lenmax):\n",
    "    ville_graph = nx.Graph()\n",
    "    ville_graph.add_nodes_from(range(i))\n",
    "    ville_graph.add_edges_from([(x,y) for x in range(i) for y in range(i) if ville_m[x][y]==1])\n",
    "    for k in range(i-1):\n",
    "        L= [(x,y) for x in range(i) for y in range(i) if ville_m[x][y]==1]\n",
    "        for a,b in L : \n",
    "             ville_graph.add_edge(a,b, len = random.randint(lenmin,lenmax))\n",
    "    pos = nx.spring_layout(ville_graph)\n",
    "    nx.draw_networkx_edges(ville_graph,pos,edgelist=None, width=1.0, edge_color='k', style='solid', alpha=None, arrowstyle='-|>', arrowsize=10, edge_cmap=None, edge_vmin=None, edge_vmax=None, ax=None, arrows=True, label=None, node_size=300, nodelist=None, node_shape='o', connectionstyle='arc3', min_source_margin=0, min_target_margin=0)\n",
    "    nx.draw_networkx_edge_labels(ville_graph, pos)\n",
    "    nx.draw(ville_graph, pos, with_labels=True)\n",
    "    return ville_graph"
   ]
  },
  {
   "cell_type": "code",
   "execution_count": 31,
   "metadata": {},
   "outputs": [
    {
     "data": {
      "image/png": "[encoded data removed]",
      "text/plain": [
       "<Figure size 432x288 with 1 Axes>"
      ]
     },
     "metadata": {},
     "output_type": "display_data"
    }
   ],
   "source": [
    "ville_1g = ville_graphe(ville_1m,12,1,10)"
   ]
  },
  {
   "cell_type": "code",
   "execution_count": 7,
   "metadata": {},
   "outputs": [
    {
     "data": {
      "text/plain": [
       "[0, 8, 9, 5]"
      ]
     },
     "execution_count": 7,
     "metadata": {},
     "output_type": "execute_result"
    }
   ],
   "source": [
    "nx.shortest_path(ville_1g, source=0, target=5, weight=None, method='dijkstra')"
   ]
  },
  {
   "cell_type": "code",
   "execution_count": 25,
   "metadata": {},
   "outputs": [
    {
     "data": {
      "text/plain": [
       "{(3, 16): 1000, (15, 16): 1000}"
      ]
     },
     "execution_count": 25,
     "metadata": {},
     "output_type": "execute_result"
    }
   ],
   "source": [
    "xx = nx.get_edge_attributes(ville_1g,'length')\n",
    "xx"
   ]
  }
 ],
 "metadata": {
  "kernelspec": {
   "display_name": "Python 3",
   "language": "python",
   "name": "python3"
  },
  "language_info": {
   "codemirror_mode": {
    "name": "ipython",
    "version": 3
   },
   "file_extension": ".py",
   "mimetype": "text/x-python",
   "name": "python",
   "nbconvert_exporter": "python",
   "pygments_lexer": "ipython3",
   "version": "3.7.3"
  }
 },
 "nbformat": 4,
 "nbformat_minor": 4
}
