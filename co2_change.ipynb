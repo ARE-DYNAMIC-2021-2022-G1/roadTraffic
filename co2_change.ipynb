{
 "cells": [
  {
   "cell_type": "code",
   "execution_count": 1,
   "id": "1c44a27b",
   "metadata": {},
   "outputs": [],
   "source": [
    "import numpy as np\n",
    "import matplotlib.pyplot as plt\n",
    "import networkx as nx\n",
    "import random"
   ]
  },
  {
   "cell_type": "code",
   "execution_count": 2,
   "id": "1eee42cf",
   "metadata": {},
   "outputs": [],
   "source": [
    "Types = {'electrique': 6210 , 'thermique':3740 } #le taux de co2 emis a la construction en kg \n",
    "\n",
    "CO2emisparkm = {'electrique': 0.02 , 'thermique':0.19 } #le taux de co2 emis par km en kg \n",
    "\n",
    "Types_vitesseslimit = {'electrique': 200, 'thermique':150}\n",
    "\n",
    "Types_perc = {'electrique': 0.5, 'thermique':0.5}\n",
    "\n",
    "Proba_shortestpath = 0.8 #la proba de choisir le chemin le plus court"
   ]
  },
  {
   "cell_type": "code",
   "execution_count": 3,
   "id": "dcbdbf31",
   "metadata": {},
   "outputs": [],
   "source": [
    "class Voiture:\n",
    "    \"\"\" Création d'une voiture avec ses différents parametres\"\"\"\n",
    "    nbr_voiture = 0\n",
    "    def __init__(self,typee,positiondepart,positionarrivé,positionactuelle,vitesse,vitesse_max,villeg):\n",
    "        self.type = typee\n",
    "        self.speed = vitesse \n",
    "        \"\"\"position est un tuple d'un tuple de position et d'un pourcentage \"\"\"\n",
    "        self.position = positionactuelle\n",
    "        self.positiondepart = positiondepart\n",
    "        self.positionarrivé = positionarrivé\n",
    "        self.vitesse_max =vitesse_max\n",
    "        \"chemin que va prendre une voiture \"\n",
    "        self.chemin = path_choice (Proba_shortestpath,villeg,positiondepart, positionarrivé)\n",
    "        self.CO2=0.0\n",
    "        self.stock=0.0\n",
    "        Voiture.nbr_voiture += 1\n",
    "    def spawn(typesperc,nbr,lenvillem,villeg):\n",
    "        \"\"\" création de la population de voitures en prenant en compte le pourcentage de voitures éléctriques et terminques\"\"\"\n",
    "        system=[]\n",
    "        len_ville_1m = lenvillem\n",
    "        for i in range(round(nbr*typesperc['electrique'])):\n",
    "            \n",
    "            pos = random_position(len_ville_1m)\n",
    "            depart = pos[0]\n",
    "            arrivee = pos[1]\n",
    "            \n",
    "            \n",
    "            a = path_choice (Proba_shortestpath,villeg,depart, arrivee)\n",
    "            \n",
    "            system.append(\"voiture\"+str(i+1))\n",
    "            system[i]= Voiture('electrique',depart,arrivee,((depart,a[1]),0.0),50,Types_vitesseslimit['electrique'],villeg)\n",
    "            system[i].CO2=CO2emisparkm['electrique']\n",
    "        \n",
    "        for j in range(round(nbr*typesperc['thermique']), nbr):\n",
    "            \n",
    "            pos = random_position(len_ville_1m)\n",
    "            depart = pos[0]\n",
    "            arrivee = pos[1]\n",
    "            \n",
    "            b = path_choice (Proba_shortestpath,villeg,depart, arrivee)\n",
    "        \n",
    "            system.append(\"voiture\"+str(j+1))\n",
    "            system[j]= Voiture('thermique',depart,arrivee,((depart,b[1]),0.0),50,Types_vitesseslimit['thermique'],villeg)\n",
    "            system[j].CO2=CO2emisparkm['thermique']\n",
    "        return system"
   ]
  },
  {
   "cell_type": "code",
   "execution_count": 4,
   "id": "22fc954a",
   "metadata": {},
   "outputs": [],
   "source": [
    "def co2_emission(distance,typee):\n",
    "    \"prend la distance en km et le type de la voiture et renvoie le taux de co2 emis\"\n",
    "    return distance * CO2emisparkm[typee]"
   ]
  },
  {
   "cell_type": "code",
   "execution_count": 5,
   "id": "a092642c",
   "metadata": {},
   "outputs": [],
   "source": [
    "def co2_construction_liste (liste_voiture):\n",
    "    \"\"\"renvoie le taux de co2 cumulé emis lors de la construction des voitures de différents type de la liste de voiture sur \n",
    "    forme de tuples \"\"\"\n",
    "    ther=0.0\n",
    "    elec=0.0\n",
    "    for i in range(len(liste_voiture)):\n",
    "        if liste_voiture[i].type=='electrique':\n",
    "            elec=elec+Type['electrique']\n",
    "    for j in range(len(liste_voiture)):\n",
    "        if liste_voiture[j].type=='thermique':\n",
    "            ther=ther+Type['thermique']\n",
    "    return (ther,elec)"
   ]
  },
  {
   "cell_type": "code",
   "execution_count": null,
   "id": "8f087b73",
   "metadata": {},
   "outputs": [],
   "source": []
  },
  {
   "cell_type": "code",
   "execution_count": null,
   "id": "4e4c2a7e",
   "metadata": {},
   "outputs": [],
   "source": [
    "def change_distance(voiture,verbose=False):\n",
    "    \"\"\" Cette fonction permet de deplacer une voiture pendant 10s. Elle modifie les parametres de la voiture :\n",
    "    pourcentage de la distance parcouru sur une arrete, changement de node quand on arrive à la fin de l'arrete\n",
    "    et ajout de la distance parcouru sur la nouvelle arrete\"\"\"\n",
    "    \n",
    "    chemin_liste = voiture.chemin\n",
    "    chemin = liste2tuple(chemin_liste)\n",
    "    \n",
    "    distance_parcouru =(voiture.speed*10)/3600\n",
    "    if voiture.position[1]+(distance_parcouru*100)/donne_longueur(voiture.position[0]) > 100:\n",
    "        if voiture.position[0][1]== voiture.positionarrivé:\n",
    "            voiture.speed=0\n",
    "            voiture.position=(voiture.position[0],100)\n",
    "        else:\n",
    "            if verbose:\n",
    "                print()\n",
    "                print(\"changement d'arrete \" + \"passage de \" +str(chemin[indice_chemin(chemin,voiture.position[0]) - 1]) + \" à :\" + str(voiture.position[0]))\n",
    "                print()\n",
    "            voiture.position = (chemin[indice_chemin(chemin,voiture.position[0]) + 1],0)\n",
    "        \n",
    "    \n",
    "    if voiture.position[1]<100 and voiture.speed!= 0:\n",
    "        voiture.position = (voiture.position[0],voiture.position[1]+(distance_parcouru*100)/donne_longueur(voiture.position[0])) \n",
    "        voiture.stock += co2_emission(voiture.speed*10/3600,voiture.type)"
   ]
  },
  {
   "cell_type": "code",
   "execution_count": 6,
   "id": "31c731ef",
   "metadata": {},
   "outputs": [],
   "source": [
    "def co2_voiture_graph(lv):\n",
    "    \"\"\" Affiche le graphe des emissions de co2 pour les voitures thermiques et electriques \"\"\"\n",
    "    ther=0.0\n",
    "    elec=0.0\n",
    "    for i in range(len(lv)):\n",
    "        if lv[i].type=='electrique':\n",
    "            elec=elec+lv[i].stock\n",
    "    for j in range(len(lv)):\n",
    "        if lv[j].type=='thermique':\n",
    "            ther=ther+lv[j].stock\n",
    "    \"\"\"Pour la partie avec plt je ne sais pas comment faire pour afficher les barres de manière\n",
    "    exacte en plus je ne comprend rien à vos maneuvre sur cette partie donc je met tout en commentaire \"\"\"\n",
    "    \"\"\"abscisse=[\"thermique\",\"electrique\"]\n",
    "    ordonnee=[ther,elec]\n",
    "    plt.bar(abscisse,ordonnee)\"\"\""
   ]
  },
  {
   "cell_type": "code",
   "execution_count": null,
   "id": "9aa8f377",
   "metadata": {},
   "outputs": [],
   "source": []
  }
 ],
 "metadata": {
  "kernelspec": {
   "display_name": "Python 3",
   "language": "python",
   "name": "python3"
  },
  "language_info": {
   "codemirror_mode": {
    "name": "ipython",
    "version": 3
   },
   "file_extension": ".py",
   "mimetype": "text/x-python",
   "name": "python",
   "nbconvert_exporter": "python",
   "pygments_lexer": "ipython3",
   "version": "3.8.8"
  }
 },
 "nbformat": 4,
 "nbformat_minor": 5
}
