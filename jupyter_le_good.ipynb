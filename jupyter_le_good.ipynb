{
 "cells": [
  {
   "cell_type": "code",
   "execution_count": 14,
   "metadata": {},
   "outputs": [],
   "source": [
    "import matplotlib.pyplot as plt\n",
    "import networkx as nx\n",
    "import numpy as np\n",
    "from networkx.algorithms import community,k_components\n",
    "import random"
   ]
  },
  {
   "cell_type": "code",
   "execution_count": 15,
   "metadata": {},
   "outputs": [],
   "source": [
    "Types = {'electrique': 1000, 'thermique':2424}\n",
    "\n",
    "Types_vitesseslimit = {'electrique': 200, 'thermique':150}\n",
    "\n",
    "Types_perc = {'electrique': 0.5, 'thermique':0.5}"
   ]
  },
  {
   "cell_type": "code",
   "execution_count": 7,
   "metadata": {},
   "outputs": [],
   "source": [
    "def matrice_ville(i,j):\n",
    "    return [[0 for x in range(i)] for y in range(j)] "
   ]
  },
  {
   "cell_type": "code",
   "execution_count": 31,
   "metadata": {},
   "outputs": [],
   "source": [
    "ville_1m = [[0, 0, 0, 0, 0, 0, 0, 0, 1, 0, 0, 0],\n",
    "[0, 0, 0, 0, 0, 0, 0, 0, 0, 0, 0, 1],\n",
    "[0, 0, 0, 0, 0, 0, 0, 0, 0, 0, 0, 1],\n",
    "[0, 0, 0, 0, 0, 0, 0, 1, 0, 0, 1, 0],\n",
    "[0, 0, 0, 0, 0, 0, 0, 0, 0, 0, 1, 0],\n",
    "[0, 0, 0, 0, 0, 0, 0, 0, 0, 1, 0, 0] ,\n",
    "[0, 0, 0, 0, 0, 0, 0, 0, 0, 1, 0, 0] ,\n",
    "[0, 0, 0, 0, 0, 0, 0, 0, 1, 0, 0, 0] ,\n",
    "[0, 0, 0, 0, 0, 0, 0, 1, 0, 1, 0, 1] ,\n",
    "[0, 0, 0, 0, 0, 1, 1, 0, 1, 0, 1, 0],\n",
    "[0, 0, 0, 1, 1, 0, 0, 0, 0, 1, 0, 1],\n",
    "[0, 1, 1, 0, 0, 0, 0, 0, 1, 0, 1, 0]] "
   ]
  },
  {
   "cell_type": "code",
   "execution_count": 32,
   "metadata": {},
   "outputs": [
    {
     "data": {
      "text/plain": [
       "[[0, 0, 0, 0, 0, 0, 0, 0, 1, 0, 0, 0],\n",
       " [0, 0, 0, 0, 0, 0, 0, 0, 0, 0, 0, 1],\n",
       " [0, 0, 0, 0, 0, 0, 0, 0, 0, 0, 0, 1],\n",
       " [0, 0, 0, 0, 0, 0, 0, 1, 0, 0, 1, 0],\n",
       " [0, 0, 0, 0, 0, 0, 0, 0, 0, 0, 1, 0],\n",
       " [0, 0, 0, 0, 0, 0, 0, 0, 0, 1, 0, 0],\n",
       " [0, 0, 0, 0, 0, 0, 0, 0, 0, 1, 0, 0],\n",
       " [0, 0, 0, 0, 0, 0, 0, 0, 1, 0, 0, 0],\n",
       " [0, 0, 0, 0, 0, 0, 0, 1, 0, 1, 0, 1],\n",
       " [0, 0, 0, 0, 0, 1, 1, 0, 1, 0, 1, 0],\n",
       " [0, 0, 0, 1, 1, 0, 0, 0, 0, 1, 0, 1],\n",
       " [0, 1, 1, 0, 0, 0, 0, 0, 1, 0, 1, 0]]"
      ]
     },
     "execution_count": 32,
     "metadata": {},
     "output_type": "execute_result"
    }
   ],
   "source": [
    "ville_1m\n"
   ]
  },
  {
   "cell_type": "code",
   "execution_count": null,
   "metadata": {},
   "outputs": [],
   "source": []
  },
  {
   "cell_type": "code",
   "execution_count": 62,
   "metadata": {},
   "outputs": [],
   "source": [
    "def ville_graphe(ville_m,i,lenmin,lenmax):\n",
    "    ville_graph = nx.Graph()\n",
    "    ville_graph.add_nodes_from(range(i))\n",
    "    ville_graph.add_edges_from([(x,y) for x in range(i) for y in range(i) if ville_m[x][y]==1])\n",
    "    for k in range(i-1):\n",
    "        L= [(x,y) for x in range(i) for y in range(i) if ville_m[x][y]==1]\n",
    "        for a,b in L : \n",
    "             ville_graph.add_edge(a,b, len = random.randint(lenmin,lenmax))\n",
    "    pos = nx.spring_layout(ville_graph)\n",
    "    nx.draw_networkx_edges(ville_graph,pos,edgelist=None, width=1.0, edge_color='k', style='solid', alpha=None, arrowstyle='-|>', arrowsize=10, edge_cmap=None, edge_vmin=None, edge_vmax=None, ax=None, arrows=True, label=None, node_size=300, nodelist=None, node_shape='o', connectionstyle='arc3', min_source_margin=0, min_target_margin=0)\n",
    "    nx.draw_networkx_edge_labels(ville_graph, pos)\n",
    "    nx.draw(ville_graph, pos, with_labels=True)\n",
    "    return ville_graph\n"
   ]
  },
  {
   "cell_type": "code",
   "execution_count": 66,
   "metadata": {},
   "outputs": [
    {
     "data": {
      "image/png": "[encoded data removed]",
      "text/plain": [
       "<Figure size 432x288 with 1 Axes>"
      ]
     },
     "metadata": {},
     "output_type": "display_data"
    }
   ],
   "source": [
    "ville_1g = ville_graphe(ville_1m,12,2,10)"
   ]
  },
  {
   "cell_type": "code",
   "execution_count": 77,
   "metadata": {},
   "outputs": [],
   "source": [
    "class Voiture:\n",
    "    nbr_voiture = 0\n",
    "    def __init__(self,typee,positiondepart,positionarrivé,positionactuelle,vitesse,vitesse_max):\n",
    "        self.type = typee\n",
    "        self.speed = vitesse \n",
    "        \"\"\"position est un tuple d'un tuple de position et d'un pourcentage \"\"\"\n",
    "        self.position = positionactuelle\n",
    "        self.positiondepart = positiondepart\n",
    "        self.positionarrivé = positionarrivé\n",
    "        self.vitesse_max =vitesse_max\n",
    "        \"chemin le plus cours a\"\n",
    "        self.chemin = nx.shortest_path(ville_1g, source=positiondepart, target=positionarrivé, weight='len', method='dijkstra')\n",
    "        Voiture.nbr_voiture += 1\n",
    "    def spawn(typesperc,nbr):\n",
    "        system=[]\n",
    "        for i in range(round(nbr*typesperc['electrique'])):\n",
    "            system.append(\"voiture\"+str(i+1))\n",
    "            system[i]= Voiture('electrique',0,0,((0,0),0.0),50,Types_vitesseslimit['electrique'])\n",
    "        for j in range(round(nbr*typesperc['thermique']), nbr):\n",
    "            system.append(\"voiture\"+str(j+1))\n",
    "            system[j]= Voiture('thermique',0,0,((0,0),0.0),50,Types_vitesseslimit['thermique'])\n",
    "        return system\n"
   ]
  },
  {
   "cell_type": "code",
   "execution_count": 71,
   "metadata": {},
   "outputs": [
    {
     "name": "stdout",
     "output_type": "stream",
     "text": [
      "le type de voiture de v1 est thermique\n",
      "v2 est de type Electrique\n",
      "electrique 200 50 ((0, 0), 0.0) 0 0\n",
      "electrique 200 50 ((0, 0), 0.0) 0 0\n",
      "electrique 200 50 ((0, 0), 0.0) 0 0\n",
      "thermique 150 50 ((0, 0), 0.0) 0 0\n",
      "thermique 150 50 ((0, 0), 0.0) 0 0\n",
      "thermique 150 50 ((0, 0), 0.0) 0 0\n"
     ]
    }
   ],
   "source": [
    "\n",
    "\n",
    "v1 = Voiture(\"thermique\",0,0,0,0,130)\n",
    "print(\"le type de voiture de v1 est {}\".format(v1.type))\n",
    "v2 = Voiture(\"Electrique\",0,0,0,0,150)\n",
    "print(\"v2 est de type {}\".format(v2.type))\n",
    "v=Voiture.spawn(Types_perc,6,)\n",
    "for i in range(6):\n",
    "    print(format(v[i].type),format(v[i].vitesse_max),format(v[i].speed),format(v[i].position),format(v[i].positiondepart),format(v[i].positionarrivé))"
   ]
  },
  {
   "cell_type": "code",
   "execution_count": 58,
   "metadata": {},
   "outputs": [
    {
     "data": {
      "text/plain": [
       "[5, 9, 10, 11, 1]"
      ]
     },
     "execution_count": 58,
     "metadata": {},
     "output_type": "execute_result"
    }
   ],
   "source": [
    "nx.shortest_path(ville_1g, source=5, target=1, weight='len', method='dijkstra')"
   ]
  },
  {
   "cell_type": "code",
   "execution_count": 61,
   "metadata": {},
   "outputs": [
    {
     "data": {
      "text/plain": [
       "0.1388888888888889"
      ]
     },
     "execution_count": 61,
     "metadata": {},
     "output_type": "execute_result"
    }
   ],
   "source": [
    "5/36"
   ]
  },
  {
   "cell_type": "code",
   "execution_count": 67,
   "metadata": {},
   "outputs": [
    {
     "data": {
      "text/plain": [
       "{(0, 8): 4,\n",
       " (1, 11): 3,\n",
       " (2, 11): 8,\n",
       " (3, 7): 4,\n",
       " (3, 10): 7,\n",
       " (4, 10): 9,\n",
       " (5, 9): 2,\n",
       " (6, 9): 7,\n",
       " (7, 8): 7,\n",
       " (8, 9): 5,\n",
       " (8, 11): 4,\n",
       " (9, 10): 5,\n",
       " (10, 11): 4}"
      ]
     },
     "execution_count": 67,
     "metadata": {},
     "output_type": "execute_result"
    }
   ],
   "source": [
    "length = nx.get_edge_attributes(ville_1g,'len')\n",
    "length"
   ]
  },
  {
   "cell_type": "code",
   "execution_count": 56,
   "metadata": {},
   "outputs": [
    {
     "data": {
      "text/plain": [
       "[[5, 9, 8, 11, 1], [5, 9, 10, 11, 1]]"
      ]
     },
     "execution_count": 56,
     "metadata": {},
     "output_type": "execute_result"
    }
   ],
   "source": [
    "nn = nx.all_shortest_paths(ville_1g, source=5, target=1, weight=None, method='dijkstra')\n",
    "l=[]\n",
    "for i in nn:\n",
    "    l.append(i)\n",
    "l"
   ]
  },
  {
   "cell_type": "code",
   "execution_count": 57,
   "metadata": {},
   "outputs": [
    {
     "data": {
      "text/plain": [
       "15"
      ]
     },
     "execution_count": 57,
     "metadata": {},
     "output_type": "execute_result"
    }
   ],
   "source": [
    "nx.shortest_path_length(ville_1g, source=5, target=1, weight='len', method='dijkstra')"
   ]
  },
  {
   "cell_type": "code",
   "execution_count": null,
   "metadata": {},
   "outputs": [],
   "source": [
    "def calcule_distance(voiture):\n",
    "    \"calcule la distance qu'une voiture a parcouru dans la node (route)\"\n",
    "    posact=voiture.position[0]\n",
    "    longueur=nx.get_edge_attributes(ville_1g,'len')\n",
    "    \n",
    "    \n",
    "    "
   ]
  },
  {
   "cell_type": "code",
   "execution_count": 98,
   "metadata": {},
   "outputs": [],
   "source": [
    "def change_distance(voiture):\n",
    "    \"\"\"Fonction qui a pour but de faire évoluer la vitesse d'une voiture \n",
    "    toute le 10 sec \"\"\"\n",
    "    chemin = voiture.chemin\n",
    "    distance_parcouru =(voiture.speed*10)/3600\n",
    "    \n",
    "    if voiture.position[1]+(distance_parcouru*100)/length[voiture.position[0]] > 100:\n",
    "        voiture.position = (voiture.position[0],0)\n",
    "        \n",
    "    \n",
    "    if voiture.position[1]<100:\n",
    "        voiture.position = (voiture.position[0],voiture.position[1]+(distance_parcouru*100)/length[voiture.position[0]])\n",
    "    \n",
    "    "
   ]
  },
  {
   "cell_type": "code",
   "execution_count": 99,
   "metadata": {},
   "outputs": [
    {
     "name": "stdout",
     "output_type": "stream",
     "text": [
      "50\n",
      "93.47222222222223\n",
      "96.94444444444446\n",
      "3.4722222222222223\n",
      "6.944444444444445\n",
      "10.416666666666668\n"
     ]
    }
   ],
   "source": [
    "popu = Voiture.spawn(Types_perc,6)\n",
    "popu[0].position=((8,11),90)\n",
    "print(popu[0].speed)\n",
    "for i in range(5):\n",
    "    change_distance(popu[0])\n",
    "    print(popu[0].position[1])\n",
    "    "
   ]
  },
  {
   "cell_type": "code",
   "execution_count": null,
   "metadata": {},
   "outputs": [],
   "source": []
  }
 ],
 "metadata": {
  "kernelspec": {
   "display_name": "Python 3",
   "language": "python",
   "name": "python3"
  },
  "language_info": {
   "codemirror_mode": {
    "name": "ipython",
    "version": 3
   },
   "file_extension": ".py",
   "mimetype": "text/x-python",
   "name": "python",
   "nbconvert_exporter": "python",
   "pygments_lexer": "ipython3",
   "version": "3.7.3"
  }
 },
 "nbformat": 4,
 "nbformat_minor": 4
}
