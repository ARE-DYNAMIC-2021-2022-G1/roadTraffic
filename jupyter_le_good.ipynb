{
 "cells": [
  {
   "cell_type": "code",
   "execution_count": 1,
   "metadata": {},
   "outputs": [],
   "source": [
    "import matplotlib.pyplot as plt\n",
    "import networkx as nx\n",
    "import numpy as np\n",
    "from networkx.algorithms import community,k_components\n",
    "import random"
   ]
  },
  {
   "cell_type": "code",
   "execution_count": 2,
   "metadata": {},
   "outputs": [],
   "source": [
    "Types = {'electrique': 1000, 'thermique':2424}\n",
    "\n",
    "Types_vitesseslimit = {'electrique': 200, 'thermique':150}\n",
    "\n",
    "Types_perc = {'electrique': 0.5, 'thermique':0.5}"
   ]
  },
  {
   "cell_type": "code",
   "execution_count": 3,
   "metadata": {},
   "outputs": [],
   "source": [
    "def matrice_ville(i,j):\n",
    "    return [[0 for x in range(i)] for y in range(j)] "
   ]
  },
  {
   "cell_type": "code",
   "execution_count": 4,
   "metadata": {},
   "outputs": [],
   "source": [
    "ville_1m = [[0, 0, 0, 0, 0, 0, 0, 0, 1, 0, 0, 0],\n",
    "[0, 0, 0, 0, 0, 0, 0, 0, 0, 0, 0, 1],\n",
    "[0, 0, 0, 0, 0, 0, 0, 0, 0, 0, 0, 1],\n",
    "[0, 0, 0, 0, 0, 0, 0, 1, 0, 0, 1, 0],\n",
    "[0, 0, 0, 0, 0, 0, 0, 0, 0, 0, 1, 0],\n",
    "[0, 0, 0, 0, 0, 0, 0, 0, 0, 1, 0, 0] ,\n",
    "[0, 0, 0, 0, 0, 0, 0, 0, 0, 1, 0, 0] ,\n",
    "[0, 0, 0, 0, 0, 0, 0, 0, 1, 0, 0, 0] ,\n",
    "[0, 0, 0, 0, 0, 0, 0, 1, 0, 1, 0, 1] ,\n",
    "[0, 0, 0, 0, 0, 1, 1, 0, 1, 0, 1, 0],\n",
    "[0, 0, 0, 1, 1, 0, 0, 0, 0, 1, 0, 1],\n",
    "[0, 1, 1, 0, 0, 0, 0, 0, 1, 0, 1, 0]] "
   ]
  },
  {
   "cell_type": "code",
   "execution_count": 5,
   "metadata": {},
   "outputs": [
    {
     "data": {
      "text/plain": [
       "[[0, 0, 0, 0, 0, 0, 0, 0, 1, 0, 0, 0],\n",
       " [0, 0, 0, 0, 0, 0, 0, 0, 0, 0, 0, 1],\n",
       " [0, 0, 0, 0, 0, 0, 0, 0, 0, 0, 0, 1],\n",
       " [0, 0, 0, 0, 0, 0, 0, 1, 0, 0, 1, 0],\n",
       " [0, 0, 0, 0, 0, 0, 0, 0, 0, 0, 1, 0],\n",
       " [0, 0, 0, 0, 0, 0, 0, 0, 0, 1, 0, 0],\n",
       " [0, 0, 0, 0, 0, 0, 0, 0, 0, 1, 0, 0],\n",
       " [0, 0, 0, 0, 0, 0, 0, 0, 1, 0, 0, 0],\n",
       " [0, 0, 0, 0, 0, 0, 0, 1, 0, 1, 0, 1],\n",
       " [0, 0, 0, 0, 0, 1, 1, 0, 1, 0, 1, 0],\n",
       " [0, 0, 0, 1, 1, 0, 0, 0, 0, 1, 0, 1],\n",
       " [0, 1, 1, 0, 0, 0, 0, 0, 1, 0, 1, 0]]"
      ]
     },
     "execution_count": 5,
     "metadata": {},
     "output_type": "execute_result"
    }
   ],
   "source": [
    "ville_1m\n"
   ]
  },
  {
   "cell_type": "code",
   "execution_count": 6,
   "metadata": {},
   "outputs": [],
   "source": [
    "def ville_graphe(ville_m,i,lenmin,lenmax):\n",
    "    ville_graph = nx.Graph()\n",
    "    ville_graph.add_nodes_from(range(i))\n",
    "    ville_graph.add_edges_from([(x,y) for x in range(i) for y in range(i) if ville_m[x][y]==1])\n",
    "    for k in range(i-1):\n",
    "        L= [(x,y) for x in range(i) for y in range(i) if ville_m[x][y]==1]\n",
    "        for a,b in L : \n",
    "             ville_graph.add_edge(a,b, len = random.randint(lenmin,lenmax))\n",
    "    pos = nx.spring_layout(ville_graph)\n",
    "    nx.draw_networkx_edges(ville_graph,pos,edgelist=None, width=1.0, edge_color='k', style='solid', alpha=None, arrowstyle='-|>', arrowsize=10, edge_cmap=None, edge_vmin=None, edge_vmax=None, ax=None, arrows=True, label=None, node_size=300, nodelist=None, node_shape='o', connectionstyle='arc3', min_source_margin=0, min_target_margin=0)\n",
    "    nx.draw_networkx_edge_labels(ville_graph, pos)\n",
    "    nx.draw(ville_graph, pos, with_labels=True)\n",
    "    return ville_graph\n"
   ]
  },
  {
   "cell_type": "code",
   "execution_count": 7,
   "metadata": {},
   "outputs": [
    {
     "data": {
      "image/png": "[encoded data removed]",
      "text/plain": [
       "<Figure size 432x288 with 1 Axes>"
      ]
     },
     "metadata": {},
     "output_type": "display_data"
    }
   ],
   "source": [
    "ville_1g = ville_graphe(ville_1m,12,2,10)"
   ]
  },
  {
   "cell_type": "code",
   "execution_count": 8,
   "metadata": {},
   "outputs": [],
   "source": [
    "def random_position(len_ville_1m):\n",
    "    depart = random.randint(0,len_ville_1m -1)\n",
    "    arrivee = random.randint(0,len_ville_1m -1)\n",
    "    \n",
    "    while(depart == arrivee):\n",
    "        arrivee = random.randint(0,len_ville_1m -1)\n",
    "    return (depart, arrivee)\n",
    "    "
   ]
  },
  {
   "cell_type": "code",
   "execution_count": 72,
   "metadata": {},
   "outputs": [],
   "source": [
    "class Voiture:\n",
    "    nbr_voiture = 0\n",
    "    def __init__(self,typee,positiondepart,positionarrivé,positionactuelle,vitesse,vitesse_max):\n",
    "        self.type = typee\n",
    "        self.speed = vitesse \n",
    "        \"\"\"position est un tuple d'un tuple de position et d'un pourcentage \"\"\"\n",
    "        self.position = positionactuelle\n",
    "        self.positiondepart = positiondepart\n",
    "        self.positionarrivé = positionarrivé\n",
    "        self.vitesse_max =vitesse_max\n",
    "        \"chemin le plus cours a\"\n",
    "        self.chemin = nx.shortest_path(ville_1g, source=positiondepart, target=positionarrivé, weight='len', method='dijkstra')\n",
    "        Voiture.nbr_voiture += 1\n",
    "    def spawn(typesperc,nbr):\n",
    "        system=[]\n",
    "        len_ville_1m = len(ville_1m)\n",
    "        for i in range(round(nbr*typesperc['electrique'])):\n",
    "            \n",
    "            pos = random_position(len_ville_1m)\n",
    "            depart = pos[0]\n",
    "            arrivee = pos[1]\n",
    "            \n",
    "            \n",
    "            a = nx.shortest_path(ville_1g, source=depart, target=arrivee, weight='len', method='dijkstra')\n",
    "            \n",
    "            system.append(\"voiture\"+str(i+1))\n",
    "            system[i]= Voiture('electrique',depart,arrivee,((depart,a[1]),0.0),50,Types_vitesseslimit['electrique'])\n",
    "        \n",
    "        for j in range(round(nbr*typesperc['thermique']), nbr):\n",
    "            \n",
    "            pos = random_position(len_ville_1m)\n",
    "            depart = pos[0]\n",
    "            arrivee = pos[1]\n",
    "            \n",
    "            b = nx.shortest_path(ville_1g, source=depart, target=arrivee, weight='len', method='dijkstra')\n",
    "        \n",
    "            system.append(\"voiture\"+str(j+1))\n",
    "            system[j]= Voiture('thermique',depart,arrivee,((depart,b[1]),0.0),50,Types_vitesseslimit['thermique'])\n",
    "        return system\n"
   ]
  },
  {
   "cell_type": "code",
   "execution_count": 73,
   "metadata": {},
   "outputs": [
    {
     "name": "stdout",
     "output_type": "stream",
     "text": [
      "le type de voiture de v1 est thermique\n",
      "v2 est de type Electrique\n",
      "electrique 200 50 ((11, 10), 0.0) 11 10\n",
      "electrique 200 50 ((7, 8), 0.0) 7 11\n",
      "electrique 200 50 ((9, 6), 0.0) 9 6\n",
      "thermique 150 50 ((6, 9), 0.0) 6 4\n",
      "thermique 150 50 ((8, 11), 0.0) 8 1\n",
      "thermique 150 50 ((10, 11), 0.0) 10 11\n"
     ]
    }
   ],
   "source": [
    "\n",
    "\n",
    "v1 = Voiture(\"thermique\",0,0,0,0,130)\n",
    "print(\"le type de voiture de v1 est {}\".format(v1.type))\n",
    "v2 = Voiture(\"Electrique\",0,0,0,0,150)\n",
    "print(\"v2 est de type {}\".format(v2.type))\n",
    "v=Voiture.spawn(Types_perc,6,)\n",
    "for i in range(6):\n",
    "    print(format(v[i].type),format(v[i].vitesse_max),format(v[i].speed),format(v[i].position),format(v[i].positiondepart),format(v[i].positionarrivé))"
   ]
  },
  {
   "cell_type": "code",
   "execution_count": 18,
   "metadata": {},
   "outputs": [],
   "source": [
    "jj = nx.shortest_path(ville_1g, source=5, target=1, weight='len', method='dijkstra')"
   ]
  },
  {
   "cell_type": "code",
   "execution_count": 19,
   "metadata": {},
   "outputs": [
    {
     "data": {
      "text/plain": [
       "0.1388888888888889"
      ]
     },
     "execution_count": 19,
     "metadata": {},
     "output_type": "execute_result"
    }
   ],
   "source": [
    "5/36"
   ]
  },
  {
   "cell_type": "code",
   "execution_count": 21,
   "metadata": {},
   "outputs": [
    {
     "data": {
      "text/plain": [
       "{(0, 8): 8,\n",
       " (1, 11): 10,\n",
       " (2, 11): 3,\n",
       " (3, 7): 5,\n",
       " (3, 10): 8,\n",
       " (4, 10): 3,\n",
       " (5, 9): 8,\n",
       " (6, 9): 4,\n",
       " (7, 8): 2,\n",
       " (8, 9): 10,\n",
       " (8, 11): 10,\n",
       " (9, 10): 6,\n",
       " (10, 11): 4}"
      ]
     },
     "execution_count": 21,
     "metadata": {},
     "output_type": "execute_result"
    }
   ],
   "source": [
    "length = nx.get_edge_attributes(ville_1g,'len')\n",
    "length"
   ]
  },
  {
   "cell_type": "code",
   "execution_count": 22,
   "metadata": {},
   "outputs": [
    {
     "data": {
      "text/plain": [
       "[[5, 9, 8, 11, 1], [5, 9, 10, 11, 1]]"
      ]
     },
     "execution_count": 22,
     "metadata": {},
     "output_type": "execute_result"
    }
   ],
   "source": [
    "nn = nx.all_shortest_paths(ville_1g, source=5, target=1, weight=None, method='dijkstra')\n",
    "l=[]\n",
    "for i in nn:\n",
    "    l.append(i)\n",
    "l"
   ]
  },
  {
   "cell_type": "code",
   "execution_count": 23,
   "metadata": {},
   "outputs": [
    {
     "data": {
      "text/plain": [
       "28"
      ]
     },
     "execution_count": 23,
     "metadata": {},
     "output_type": "execute_result"
    }
   ],
   "source": [
    "nx.shortest_path_length(ville_1g, source=5, target=1, weight='len', method='dijkstra')"
   ]
  },
  {
   "cell_type": "code",
   "execution_count": 24,
   "metadata": {},
   "outputs": [],
   "source": [
    "def liste2tuple(chemin):\n",
    "    chemine = []\n",
    "    for i in range(len(chemin)-1):\n",
    "        chemine.append((chemin[i],chemin[i+1]))\n",
    "    return chemine\n",
    "        \n",
    "    \n",
    "    \n",
    "    "
   ]
  },
  {
   "cell_type": "code",
   "execution_count": 25,
   "metadata": {},
   "outputs": [
    {
     "data": {
      "text/plain": [
       "[(5, 9), (9, 10), (10, 11), (11, 1)]"
      ]
     },
     "execution_count": 25,
     "metadata": {},
     "output_type": "execute_result"
    }
   ],
   "source": [
    "liste2tuple(jj)"
   ]
  },
  {
   "cell_type": "code",
   "execution_count": 42,
   "metadata": {},
   "outputs": [
    {
     "data": {
      "text/plain": [
       "{(0, 8): 8,\n",
       " (1, 11): 10,\n",
       " (2, 11): 3,\n",
       " (3, 7): 5,\n",
       " (3, 10): 8,\n",
       " (4, 10): 3,\n",
       " (5, 9): 8,\n",
       " (6, 9): 4,\n",
       " (7, 8): 2,\n",
       " (8, 9): 10,\n",
       " (8, 11): 10,\n",
       " (9, 10): 6,\n",
       " (10, 11): 4}"
      ]
     },
     "execution_count": 42,
     "metadata": {},
     "output_type": "execute_result"
    }
   ],
   "source": [
    "nx.get_edge_attributes(ville_1g,'len')"
   ]
  },
  {
   "cell_type": "code",
   "execution_count": null,
   "metadata": {},
   "outputs": [],
   "source": [
    "def change_entre_node(voiture):\n",
    "    \"\"\"change la valeur du tuple dans le tuple position qui définit la position entre les nodes où se trouve\n",
    "    le véhicule quand un vehicule change de route \n",
    "                                                    note:ne prend pas en compte le sens des routes \"\"\"\n",
    "    \"\"\" Qu'ai je besoin ? 1) D'une liste qui me prend le chemin que prend le vehicule afin de recupérer les nodes \n",
    "    que le vehicule va pouvoir prendre .\n",
    "    2) D'un compteur pour parcourir la liste .\n",
    "    3) D'un tuple qui va prendre la valeur du nouveau chemin afin de la remplacer dans notre voiture\"\"\"\n",
    "    chemin_court=voiture.chemin\n",
    "    i=0\n",
    "    get=voiture.position[0][0]\n",
    "    svg=()\n",
    "    for i in range(len(chemin_court)-2):\n",
    "        if(chemin_court[i]==get):\n",
    "            voiture.position=((chemin_court[i+1],chemin_court[i+2]),voiture.position[1])\n",
    "            print(voiture.position[0])"
   ]
  },
  {
   "cell_type": "code",
   "execution_count": 26,
   "metadata": {},
   "outputs": [],
   "source": [
    "def indice_chemin(chemin , tuplee):\n",
    "    for i in range(len(chemin)-1):\n",
    "        if chemin[i]==tuplee:\n",
    "            return i\n",
    "    return 0 "
   ]
  },
  {
   "cell_type": "code",
   "execution_count": 27,
   "metadata": {},
   "outputs": [
    {
     "data": {
      "text/plain": [
       "0"
      ]
     },
     "execution_count": 27,
     "metadata": {},
     "output_type": "execute_result"
    }
   ],
   "source": [
    "indice_chemin(liste2tuple(jj),(8,11))"
   ]
  },
  {
   "cell_type": "code",
   "execution_count": 66,
   "metadata": {},
   "outputs": [],
   "source": [
    "def donne_longueur(t1):\n",
    "    taille = nx.get_edge_attributes(ville_1g,'len')\n",
    "    for (t2,l) in taille.items():\n",
    "        if((t1[0]==t2[0]) and (t1[1]==t2[1])) or ((t1[0]==t2[1] )and (t1[1]==t2[0])) :\n",
    "            return l\n",
    "    return -1 "
   ]
  },
  {
   "cell_type": "code",
   "execution_count": 44,
   "metadata": {},
   "outputs": [
    {
     "data": {
      "text/plain": [
       "4"
      ]
     },
     "execution_count": 44,
     "metadata": {},
     "output_type": "execute_result"
    }
   ],
   "source": [
    "donne_longueur((9,6))"
   ]
  },
  {
   "cell_type": "code",
   "execution_count": 74,
   "metadata": {},
   "outputs": [],
   "source": [
    "def change_distance(voiture):\n",
    "    \"\"\"Fonction qui a pour but de faire évoluer la vitesse d'une voiture \n",
    "    toute le 10 sec \"\"\"\n",
    "    chemine = voiture.chemin\n",
    "    chemin = liste2tuple(chemine)\n",
    "    \n",
    "    distance_parcouru =(voiture.speed*10)/3600\n",
    "    print(voiture.position[0])\n",
    "    if voiture.position[1]+(distance_parcouru*100)/donne_longueur(voiture.position[0]) > 100:\n",
    "        print(chemin[indice_chemin(chemin,voiture.position[0])])\n",
    "        print(voiture.position[0])\n",
    "        voiture.position = (chemin[indice_chemin(chemin,voiture.position[0]) + 1],0)\n",
    "        \n",
    "    \n",
    "    if voiture.position[1]<100:\n",
    "        voiture.position = (voiture.position[0],voiture.position[1]+(distance_parcouru*100)/donne_longueur(voiture.position[0]))\n",
    "    \n",
    "    "
   ]
  },
  {
   "cell_type": "code",
   "execution_count": 75,
   "metadata": {},
   "outputs": [
    {
     "name": "stdout",
     "output_type": "stream",
     "text": [
      "50\n",
      "[0, 8, 9, 6]\n",
      "[(0, 8), (8, 9), (9, 6)]\n",
      "(0, 8)\n",
      "pourcentage = 1.7361111111111112\n",
      " tuple pos = (0, 8)\n",
      "(0, 8)\n",
      "pourcentage = 3.4722222222222223\n",
      " tuple pos = (0, 8)\n",
      "(0, 8)\n",
      "pourcentage = 5.208333333333334\n",
      " tuple pos = (0, 8)\n",
      "(0, 8)\n",
      "pourcentage = 6.944444444444445\n",
      " tuple pos = (0, 8)\n",
      "(0, 8)\n",
      "pourcentage = 8.680555555555555\n",
      " tuple pos = (0, 8)\n",
      "(0, 8)\n",
      "pourcentage = 10.416666666666666\n",
      " tuple pos = (0, 8)\n",
      "(0, 8)\n",
      "pourcentage = 12.152777777777777\n",
      " tuple pos = (0, 8)\n",
      "(0, 8)\n",
      "pourcentage = 13.888888888888888\n",
      " tuple pos = (0, 8)\n",
      "(0, 8)\n",
      "pourcentage = 15.624999999999998\n",
      " tuple pos = (0, 8)\n",
      "(0, 8)\n",
      "pourcentage = 17.36111111111111\n",
      " tuple pos = (0, 8)\n",
      "(0, 8)\n",
      "pourcentage = 19.09722222222222\n",
      " tuple pos = (0, 8)\n",
      "(0, 8)\n",
      "pourcentage = 20.833333333333332\n",
      " tuple pos = (0, 8)\n",
      "(0, 8)\n",
      "pourcentage = 22.569444444444443\n",
      " tuple pos = (0, 8)\n",
      "(0, 8)\n",
      "pourcentage = 24.305555555555554\n",
      " tuple pos = (0, 8)\n",
      "(0, 8)\n",
      "pourcentage = 26.041666666666664\n",
      " tuple pos = (0, 8)\n",
      "(0, 8)\n",
      "pourcentage = 27.777777777777775\n",
      " tuple pos = (0, 8)\n",
      "(0, 8)\n",
      "pourcentage = 29.513888888888886\n",
      " tuple pos = (0, 8)\n",
      "(0, 8)\n",
      "pourcentage = 31.249999999999996\n",
      " tuple pos = (0, 8)\n",
      "(0, 8)\n",
      "pourcentage = 32.98611111111111\n",
      " tuple pos = (0, 8)\n",
      "(0, 8)\n",
      "pourcentage = 34.72222222222222\n",
      " tuple pos = (0, 8)\n",
      "(0, 8)\n",
      "pourcentage = 36.458333333333336\n",
      " tuple pos = (0, 8)\n",
      "(0, 8)\n",
      "pourcentage = 38.19444444444445\n",
      " tuple pos = (0, 8)\n",
      "(0, 8)\n",
      "pourcentage = 39.930555555555564\n",
      " tuple pos = (0, 8)\n",
      "(0, 8)\n",
      "pourcentage = 41.66666666666668\n",
      " tuple pos = (0, 8)\n",
      "(0, 8)\n",
      "pourcentage = 43.40277777777779\n",
      " tuple pos = (0, 8)\n",
      "(0, 8)\n",
      "pourcentage = 45.13888888888891\n",
      " tuple pos = (0, 8)\n",
      "(0, 8)\n",
      "pourcentage = 46.87500000000002\n",
      " tuple pos = (0, 8)\n",
      "(0, 8)\n",
      "pourcentage = 48.611111111111136\n",
      " tuple pos = (0, 8)\n",
      "(0, 8)\n",
      "pourcentage = 50.34722222222225\n",
      " tuple pos = (0, 8)\n",
      "(0, 8)\n",
      "pourcentage = 52.083333333333364\n",
      " tuple pos = (0, 8)\n",
      "(0, 8)\n",
      "pourcentage = 53.81944444444448\n",
      " tuple pos = (0, 8)\n",
      "(0, 8)\n",
      "pourcentage = 55.55555555555559\n",
      " tuple pos = (0, 8)\n",
      "(0, 8)\n",
      "pourcentage = 57.29166666666671\n",
      " tuple pos = (0, 8)\n",
      "(0, 8)\n",
      "pourcentage = 59.02777777777782\n",
      " tuple pos = (0, 8)\n",
      "(0, 8)\n",
      "pourcentage = 60.763888888888935\n",
      " tuple pos = (0, 8)\n",
      "(0, 8)\n",
      "pourcentage = 62.50000000000005\n",
      " tuple pos = (0, 8)\n",
      "(0, 8)\n",
      "pourcentage = 64.23611111111116\n",
      " tuple pos = (0, 8)\n",
      "(0, 8)\n",
      "pourcentage = 65.97222222222227\n",
      " tuple pos = (0, 8)\n",
      "(0, 8)\n",
      "pourcentage = 67.70833333333339\n",
      " tuple pos = (0, 8)\n",
      "(0, 8)\n",
      "pourcentage = 69.4444444444445\n",
      " tuple pos = (0, 8)\n",
      "(0, 8)\n",
      "pourcentage = 71.18055555555561\n",
      " tuple pos = (0, 8)\n",
      "(0, 8)\n",
      "pourcentage = 72.91666666666673\n",
      " tuple pos = (0, 8)\n",
      "(0, 8)\n",
      "pourcentage = 74.65277777777784\n",
      " tuple pos = (0, 8)\n",
      "(0, 8)\n",
      "pourcentage = 76.38888888888896\n",
      " tuple pos = (0, 8)\n",
      "(0, 8)\n",
      "pourcentage = 78.12500000000007\n",
      " tuple pos = (0, 8)\n",
      "(0, 8)\n",
      "pourcentage = 79.86111111111119\n",
      " tuple pos = (0, 8)\n",
      "(0, 8)\n",
      "pourcentage = 81.5972222222223\n",
      " tuple pos = (0, 8)\n",
      "(0, 8)\n",
      "pourcentage = 83.33333333333341\n",
      " tuple pos = (0, 8)\n",
      "(0, 8)\n",
      "pourcentage = 85.06944444444453\n",
      " tuple pos = (0, 8)\n",
      "(0, 8)\n",
      "pourcentage = 86.80555555555564\n",
      " tuple pos = (0, 8)\n",
      "(0, 8)\n",
      "pourcentage = 88.54166666666676\n",
      " tuple pos = (0, 8)\n",
      "(0, 8)\n",
      "pourcentage = 90.27777777777787\n",
      " tuple pos = (0, 8)\n",
      "(0, 8)\n",
      "pourcentage = 92.01388888888899\n",
      " tuple pos = (0, 8)\n",
      "(0, 8)\n",
      "pourcentage = 93.7500000000001\n",
      " tuple pos = (0, 8)\n",
      "(0, 8)\n",
      "pourcentage = 95.48611111111121\n",
      " tuple pos = (0, 8)\n",
      "(0, 8)\n",
      "pourcentage = 97.22222222222233\n",
      " tuple pos = (0, 8)\n",
      "(0, 8)\n",
      "pourcentage = 98.95833333333344\n",
      " tuple pos = (0, 8)\n",
      "(0, 8)\n",
      "(0, 8)\n",
      "(0, 8)\n",
      "pourcentage = 1.3888888888888888\n",
      " tuple pos = (8, 9)\n",
      "(8, 9)\n",
      "pourcentage = 2.7777777777777777\n",
      " tuple pos = (8, 9)\n",
      "(8, 9)\n",
      "pourcentage = 4.166666666666666\n",
      " tuple pos = (8, 9)\n",
      "(8, 9)\n",
      "pourcentage = 5.555555555555555\n",
      " tuple pos = (8, 9)\n",
      "(8, 9)\n",
      "pourcentage = 6.944444444444445\n",
      " tuple pos = (8, 9)\n",
      "(8, 9)\n",
      "pourcentage = 8.333333333333334\n",
      " tuple pos = (8, 9)\n",
      "(8, 9)\n",
      "pourcentage = 9.722222222222223\n",
      " tuple pos = (8, 9)\n",
      "(8, 9)\n",
      "pourcentage = 11.111111111111112\n",
      " tuple pos = (8, 9)\n",
      "(8, 9)\n",
      "pourcentage = 12.500000000000002\n",
      " tuple pos = (8, 9)\n",
      "(8, 9)\n",
      "pourcentage = 13.888888888888891\n",
      " tuple pos = (8, 9)\n",
      "(8, 9)\n",
      "pourcentage = 15.27777777777778\n",
      " tuple pos = (8, 9)\n",
      "(8, 9)\n",
      "pourcentage = 16.666666666666668\n",
      " tuple pos = (8, 9)\n",
      "(8, 9)\n",
      "pourcentage = 18.055555555555557\n",
      " tuple pos = (8, 9)\n",
      "(8, 9)\n",
      "pourcentage = 19.444444444444446\n",
      " tuple pos = (8, 9)\n",
      "(8, 9)\n",
      "pourcentage = 20.833333333333336\n",
      " tuple pos = (8, 9)\n",
      "(8, 9)\n",
      "pourcentage = 22.222222222222225\n",
      " tuple pos = (8, 9)\n",
      "(8, 9)\n",
      "pourcentage = 23.611111111111114\n",
      " tuple pos = (8, 9)\n",
      "(8, 9)\n",
      "pourcentage = 25.000000000000004\n",
      " tuple pos = (8, 9)\n",
      "(8, 9)\n",
      "pourcentage = 26.388888888888893\n",
      " tuple pos = (8, 9)\n",
      "(8, 9)\n",
      "pourcentage = 27.777777777777782\n",
      " tuple pos = (8, 9)\n",
      "(8, 9)\n",
      "pourcentage = 29.16666666666667\n",
      " tuple pos = (8, 9)\n",
      "(8, 9)\n",
      "pourcentage = 30.55555555555556\n",
      " tuple pos = (8, 9)\n",
      "(8, 9)\n",
      "pourcentage = 31.94444444444445\n",
      " tuple pos = (8, 9)\n",
      "(8, 9)\n",
      "pourcentage = 33.333333333333336\n",
      " tuple pos = (8, 9)\n",
      "(8, 9)\n",
      "pourcentage = 34.72222222222222\n",
      " tuple pos = (8, 9)\n",
      "(8, 9)\n",
      "pourcentage = 36.11111111111111\n",
      " tuple pos = (8, 9)\n",
      "(8, 9)\n",
      "pourcentage = 37.49999999999999\n",
      " tuple pos = (8, 9)\n",
      "(8, 9)\n",
      "pourcentage = 38.88888888888888\n",
      " tuple pos = (8, 9)\n",
      "(8, 9)\n",
      "pourcentage = 40.277777777777764\n",
      " tuple pos = (8, 9)\n",
      "(8, 9)\n",
      "pourcentage = 41.66666666666665\n",
      " tuple pos = (8, 9)\n",
      "(8, 9)\n",
      "pourcentage = 43.055555555555536\n",
      " tuple pos = (8, 9)\n",
      "(8, 9)\n",
      "pourcentage = 44.44444444444442\n",
      " tuple pos = (8, 9)\n",
      "(8, 9)\n",
      "pourcentage = 45.83333333333331\n",
      " tuple pos = (8, 9)\n",
      "(8, 9)\n",
      "pourcentage = 47.22222222222219\n",
      " tuple pos = (8, 9)\n",
      "(8, 9)\n",
      "pourcentage = 48.61111111111108\n",
      " tuple pos = (8, 9)\n",
      "(8, 9)\n",
      "pourcentage = 49.999999999999964\n",
      " tuple pos = (8, 9)\n",
      "(8, 9)\n",
      "pourcentage = 51.38888888888885\n",
      " tuple pos = (8, 9)\n",
      "(8, 9)\n",
      "pourcentage = 52.777777777777736\n",
      " tuple pos = (8, 9)\n",
      "(8, 9)\n",
      "pourcentage = 54.16666666666662\n",
      " tuple pos = (8, 9)\n",
      "(8, 9)\n",
      "pourcentage = 55.55555555555551\n",
      " tuple pos = (8, 9)\n",
      "(8, 9)\n",
      "pourcentage = 56.94444444444439\n",
      " tuple pos = (8, 9)\n",
      "(8, 9)\n",
      "pourcentage = 58.33333333333328\n",
      " tuple pos = (8, 9)\n",
      "(8, 9)\n",
      "pourcentage = 59.722222222222165\n",
      " tuple pos = (8, 9)\n",
      "(8, 9)\n",
      "pourcentage = 61.11111111111105\n",
      " tuple pos = (8, 9)\n",
      "(8, 9)\n",
      "pourcentage = 62.499999999999936\n",
      " tuple pos = (8, 9)\n",
      "(8, 9)\n",
      "pourcentage = 63.88888888888882\n",
      " tuple pos = (8, 9)\n",
      "(8, 9)\n",
      "pourcentage = 65.27777777777771\n",
      " tuple pos = (8, 9)\n",
      "(8, 9)\n",
      "pourcentage = 66.6666666666666\n",
      " tuple pos = (8, 9)\n",
      "(8, 9)\n",
      "pourcentage = 68.05555555555549\n",
      " tuple pos = (8, 9)\n",
      "(8, 9)\n",
      "pourcentage = 69.44444444444437\n",
      " tuple pos = (8, 9)\n",
      "(8, 9)\n",
      "pourcentage = 70.83333333333326\n",
      " tuple pos = (8, 9)\n",
      "(8, 9)\n",
      "pourcentage = 72.22222222222214\n",
      " tuple pos = (8, 9)\n",
      "(8, 9)\n",
      "pourcentage = 73.61111111111103\n",
      " tuple pos = (8, 9)\n",
      "(8, 9)\n",
      "pourcentage = 74.99999999999991\n",
      " tuple pos = (8, 9)\n",
      "(8, 9)\n",
      "pourcentage = 76.3888888888888\n",
      " tuple pos = (8, 9)\n",
      "(8, 9)\n",
      "pourcentage = 77.77777777777769\n",
      " tuple pos = (8, 9)\n",
      "(8, 9)\n",
      "pourcentage = 79.16666666666657\n",
      " tuple pos = (8, 9)\n",
      "(8, 9)\n",
      "pourcentage = 80.55555555555546\n",
      " tuple pos = (8, 9)\n",
      "(8, 9)\n",
      "pourcentage = 81.94444444444434\n",
      " tuple pos = (8, 9)\n",
      "(8, 9)\n",
      "pourcentage = 83.33333333333323\n",
      " tuple pos = (8, 9)\n",
      "(8, 9)\n",
      "pourcentage = 84.72222222222211\n",
      " tuple pos = (8, 9)\n",
      "(8, 9)\n",
      "pourcentage = 86.111111111111\n",
      " tuple pos = (8, 9)\n",
      "(8, 9)\n",
      "pourcentage = 87.49999999999989\n",
      " tuple pos = (8, 9)\n",
      "(8, 9)\n",
      "pourcentage = 88.88888888888877\n",
      " tuple pos = (8, 9)\n",
      "(8, 9)\n",
      "pourcentage = 90.27777777777766\n",
      " tuple pos = (8, 9)\n",
      "(8, 9)\n",
      "pourcentage = 91.66666666666654\n",
      " tuple pos = (8, 9)\n",
      "(8, 9)\n",
      "pourcentage = 93.05555555555543\n",
      " tuple pos = (8, 9)\n",
      "(8, 9)\n",
      "pourcentage = 94.44444444444431\n",
      " tuple pos = (8, 9)\n",
      "(8, 9)\n",
      "pourcentage = 95.8333333333332\n",
      " tuple pos = (8, 9)\n",
      "(8, 9)\n",
      "pourcentage = 97.22222222222209\n",
      " tuple pos = (8, 9)\n",
      "(8, 9)\n",
      "pourcentage = 98.61111111111097\n",
      " tuple pos = (8, 9)\n",
      "(8, 9)\n",
      "pourcentage = 99.99999999999986\n",
      " tuple pos = (8, 9)\n",
      "(8, 9)\n",
      "(8, 9)\n",
      "(8, 9)\n",
      "pourcentage = 3.4722222222222223\n",
      " tuple pos = (9, 6)\n",
      "(9, 6)\n",
      "pourcentage = 6.944444444444445\n",
      " tuple pos = (9, 6)\n",
      "(9, 6)\n",
      "pourcentage = 10.416666666666668\n",
      " tuple pos = (9, 6)\n",
      "(9, 6)\n",
      "pourcentage = 13.88888888888889\n",
      " tuple pos = (9, 6)\n",
      "(9, 6)\n",
      "pourcentage = 17.36111111111111\n",
      " tuple pos = (9, 6)\n",
      "(9, 6)\n",
      "pourcentage = 20.833333333333332\n",
      " tuple pos = (9, 6)\n",
      "(9, 6)\n",
      "pourcentage = 24.305555555555554\n",
      " tuple pos = (9, 6)\n",
      "(9, 6)\n",
      "pourcentage = 27.777777777777775\n",
      " tuple pos = (9, 6)\n",
      "(9, 6)\n",
      "pourcentage = 31.249999999999996\n",
      " tuple pos = (9, 6)\n",
      "(9, 6)\n",
      "pourcentage = 34.72222222222222\n",
      " tuple pos = (9, 6)\n",
      "(9, 6)\n",
      "pourcentage = 38.19444444444444\n",
      " tuple pos = (9, 6)\n",
      "(9, 6)\n",
      "pourcentage = 41.666666666666664\n",
      " tuple pos = (9, 6)\n",
      "(9, 6)\n",
      "pourcentage = 45.138888888888886\n",
      " tuple pos = (9, 6)\n",
      "(9, 6)\n",
      "pourcentage = 48.61111111111111\n",
      " tuple pos = (9, 6)\n",
      "(9, 6)\n",
      "pourcentage = 52.08333333333333\n",
      " tuple pos = (9, 6)\n",
      "(9, 6)\n",
      "pourcentage = 55.55555555555555\n",
      " tuple pos = (9, 6)\n",
      "(9, 6)\n",
      "pourcentage = 59.02777777777777\n",
      " tuple pos = (9, 6)\n",
      "(9, 6)\n",
      "pourcentage = 62.49999999999999\n",
      " tuple pos = (9, 6)\n",
      "(9, 6)\n",
      "pourcentage = 65.97222222222221\n",
      " tuple pos = (9, 6)\n",
      "(9, 6)\n",
      "pourcentage = 69.44444444444444\n",
      " tuple pos = (9, 6)\n",
      "(9, 6)\n",
      "pourcentage = 72.91666666666667\n",
      " tuple pos = (9, 6)\n"
     ]
    }
   ],
   "source": [
    "popu = Voiture.spawn(Types_perc,6)\n",
    "print(popu[0].speed)\n",
    "print(popu[0].chemin)\n",
    "print(liste2tuple(popu[0].chemin))\n",
    "\n",
    "\n",
    "for i in range(150):\n",
    "    change_distance(popu[0])\n",
    "    print(\"pourcentage = \" + str(popu[0].position[1]))\n",
    "    print(\" tuple pos = \" + str(popu[0].position[0]))   "
   ]
  },
  {
   "cell_type": "code",
   "execution_count": null,
   "metadata": {},
   "outputs": [],
   "source": []
  },
  {
   "cell_type": "code",
   "execution_count": null,
   "metadata": {},
   "outputs": [],
   "source": []
  }
 ],
 "metadata": {
  "kernelspec": {
   "display_name": "Python 3",
   "language": "python",
   "name": "python3"
  },
  "language_info": {
   "codemirror_mode": {
    "name": "ipython",
    "version": 3
   },
   "file_extension": ".py",
   "mimetype": "text/x-python",
   "name": "python",
   "nbconvert_exporter": "python",
   "pygments_lexer": "ipython3",
   "version": "3.7.3"
  }
 },
 "nbformat": 4,
 "nbformat_minor": 4
}
