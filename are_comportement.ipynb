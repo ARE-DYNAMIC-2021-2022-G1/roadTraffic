{
 "cells": [
  {
   "cell_type": "code",
   "execution_count": 2,
   "id": "06bbb65b",
   "metadata": {},
   "outputs": [],
   "source": [
    "import numpy as np\n",
    "import matplotlib.pyplot as plt\n",
    "import networkx as nx\n",
    "import random"
   ]
  },
  {
   "cell_type": "code",
   "execution_count": 1,
   "id": "ab9b607b",
   "metadata": {},
   "outputs": [],
   "source": [
    "Types = {'electrique': 6210 , 'thermique':3740 } #le taux de co2 emis a la construction en kg \n",
    "\n",
    "CO2emisparkm = {'electrique': 0.02 , 'thermique':0.19 } #le taux de co2 emis par km en kg \n",
    "\n",
    "Types_vitesseslimit = {'electrique': 200, 'thermique':150}\n",
    "\n",
    "Types_perc = {'electrique': 0.5, 'thermique':0.5}\n",
    "\n",
    "Proba_shortestpath = 0.8 #la proba de choisir le chemin le plus court"
   ]
  },
  {
   "cell_type": "code",
   "execution_count": 4,
   "id": "a85a79b6",
   "metadata": {},
   "outputs": [
    {
     "data": {
      "text/plain": [
       "3"
      ]
     },
     "execution_count": 4,
     "metadata": {},
     "output_type": "execute_result"
    }
   ],
   "source": [
    "statut = {'normal':0.8,'bourée':0.15,'drogué':0.05}\n",
    "sexe = {\"homme\":0.7,'femme':0.3}\n",
    "age = {\"adulte\":0.8,'vieux':0.2}\n",
    "len(statut)"
   ]
  },
  {
   "cell_type": "code",
   "execution_count": 4,
   "id": "73cd721d",
   "metadata": {},
   "outputs": [],
   "source": [
    "ville_1m = [[0, 0, 0, 0, 0, 0, 0, 0, 1, 0, 0, 0],\n",
    "[0, 0, 0, 0, 0, 0, 0, 0, 0, 0, 0, 1],\n",
    "[0, 0, 0, 0, 0, 0, 0, 0, 0, 0, 0, 1],\n",
    "[0, 0, 0, 0, 0, 0, 0, 1, 0, 0, 1, 0],\n",
    "[0, 0, 0, 0, 0, 0, 0, 0, 0, 0, 1, 0],\n",
    "[0, 0, 0, 0, 0, 0, 0, 0, 0, 1, 0, 0] ,\n",
    "[0, 0, 0, 0, 0, 0, 0, 0, 0, 1, 0, 0] ,\n",
    "[0, 0, 0, 0, 0, 0, 0, 0, 1, 0, 0, 0] ,\n",
    "[0, 0, 0, 0, 0, 0, 0, 1, 0, 1, 0, 1] ,\n",
    "[0, 0, 0, 0, 0, 1, 1, 0, 1, 0, 1, 0],\n",
    "[0, 0, 0, 1, 1, 0, 0, 0, 0, 1, 0, 1],\n",
    "[0, 1, 1, 0, 0, 0, 0, 0, 1, 0, 1, 0]] "
   ]
  },
  {
   "cell_type": "code",
   "execution_count": 5,
   "id": "2516fbe7",
   "metadata": {},
   "outputs": [],
   "source": [
    "paris1=[[0, 1, 0, 0, 0, 0, 0, 0, 0, 0, 1, 0, 0, 0, 0, 1, 0, 0, 0, 0, 0, 0, 0, 0, 0, 0, 0, 0, 0, 0],\n",
    "        [1, 0, 1, 0, 0, 0, 0, 0, 0, 0, 0, 0, 0, 0, 0, 0, 0, 0, 0, 0, 0, 0, 0, 0, 0, 0, 1, 0, 0, 0],\n",
    "        [0, 1, 0, 1, 0, 0, 0, 0, 0, 0, 0, 0, 0, 0, 0, 0, 0, 0, 0, 0, 0, 0, 1, 0, 0, 0, 0, 0, 0, 0],\n",
    "        [0, 0, 1, 0, 1, 0, 0, 0, 0, 0, 0, 0, 0, 0, 0, 0, 0, 0, 0, 0, 0, 1, 0, 0, 0, 0, 0, 0, 0, 0],\n",
    "        [0, 0, 0, 1, 0, 1, 0, 0, 0, 0, 0, 0, 0, 0, 0, 0, 0, 0, 0, 0, 0, 0, 0, 1, 0, 0, 0, 0, 0, 0],\n",
    "        [0, 0, 0, 0, 1, 0, 1, 0, 0, 0, 0, 0, 0, 0, 0, 0, 0, 0, 0, 0, 1, 0, 0, 0, 0, 0, 0, 0, 0, 0],\n",
    "        [0, 0, 0, 0, 0, 1, 0, 1, 0, 0, 0, 0, 1, 0, 0, 0, 0, 0, 0, 0, 0, 0, 0, 0, 0, 0, 0, 0, 0, 0],\n",
    "        [0, 0, 0, 0, 0, 0, 1, 0, 1, 0, 0, 0, 0, 0, 0, 0, 0, 0, 0, 0, 0, 0, 0, 0, 0, 0, 0, 0, 0, 1],\n",
    "        [0, 0, 0, 0, 0, 0, 0, 1, 0, 1, 0, 0, 0, 1, 0, 0, 0, 0, 0, 0, 0, 0, 0, 0, 0, 0, 0, 0, 0, 0],\n",
    "        [0, 0, 0, 0, 0, 0, 0, 0, 1, 0, 1, 0, 0, 0, 0, 0, 0, 0, 0, 1, 0, 0, 0, 0, 0, 0, 0, 0, 0, 0],\n",
    "        [1, 0, 0, 0, 0, 0, 0, 0, 0, 1, 0, 0, 0, 0, 0, 0, 0, 0, 0, 0, 0, 0, 0, 0, 0, 0, 0, 1, 0, 0],\n",
    "        [0, 0, 0, 0, 0, 0, 0, 0, 0, 0, 0, 0, 1, 0, 0, 0, 0, 0, 0, 0, 0, 0, 0, 0, 0, 1, 0, 0, 1, 1],\n",
    "        [0, 0, 0, 0, 0, 0, 1, 0, 0, 0, 0, 1, 0, 0, 0, 0, 0, 0, 0, 0, 1, 0, 0, 0, 0, 0, 0, 0, 0, 0],\n",
    "        [0, 0, 0, 0, 0, 0, 0, 0, 1, 0, 0, 0, 0, 0, 0, 0, 0, 0, 1, 1, 0, 0, 0, 0, 0, 0, 0, 0, 0, 1],\n",
    "        [0, 0, 0, 0, 0, 0, 0, 0, 0, 0, 0, 0, 0, 0, 0, 0, 0, 1, 0, 1, 0, 0, 0, 0, 0, 0, 0, 1, 0, 0],\n",
    "        [1, 0, 0, 0, 0, 0, 0, 0, 0, 0, 0, 0, 0, 0, 0, 0, 0, 1, 0, 0, 0, 0, 0, 0, 0, 0, 0, 0, 0, 0],\n",
    "        [0, 0, 0, 0, 0, 0, 0, 0, 0, 0, 0, 0, 0, 0, 0, 0, 0, 1, 0, 0, 0, 0, 1, 0, 0, 0, 1, 0, 0, 0],\n",
    "        [0, 0, 0, 0, 0, 0, 0, 0, 0, 0, 0, 0, 0, 0, 1, 1, 1, 0, 0, 0, 0, 0, 0, 0, 0, 1, 0, 1, 0, 0],\n",
    "        [0, 0, 0, 0, 0, 0, 0, 0, 0, 0, 0, 0, 0, 1, 0, 0, 0, 0, 0, 1, 0, 0, 0, 0, 0, 1, 0, 0, 0, 0],\n",
    "        [0, 0, 0, 0, 0, 0, 0, 0, 0, 1, 0, 0, 0, 1, 1, 0, 0, 0, 1, 0, 0, 0, 0, 0, 0, 0, 0, 0, 0, 0],\n",
    "        [0, 0, 0, 0, 0, 1, 0, 0, 0, 0, 0, 0, 1, 0, 0, 0, 0, 0, 0, 0, 0, 0, 0, 0, 0, 0, 0, 0, 1, 0],\n",
    "        [0, 0, 0, 1, 0, 0, 0, 0, 0, 0, 0, 0, 0, 0, 0, 0, 0, 0, 0, 0, 0, 0, 1, 1, 1, 0, 0, 0, 0, 0],\n",
    "        [0, 0, 1, 0, 0, 0, 0, 0, 0, 0, 0, 0, 0, 0, 0, 0, 1, 0, 0, 0, 0, 1, 0, 0, 0, 1, 0, 0, 0, 0],\n",
    "        [0, 0, 0, 0, 1, 0, 0, 0, 0, 0, 0, 0, 0, 0, 0, 0, 0, 0, 0, 0, 0, 1, 0, 0, 0, 0, 0, 0, 1, 0],\n",
    "        [0, 0, 0, 0, 0, 0, 0, 0, 0, 0, 0, 0, 0, 0, 0, 0, 0, 0, 0, 0, 0, 1, 0, 0, 0, 1, 0, 0, 1, 0],\n",
    "        [0, 0, 0, 0, 0, 0, 0, 0, 0, 0, 0, 1, 0, 0, 0, 0, 0, 1, 1, 0, 0, 0, 1, 0, 1, 0, 0, 0, 0, 0],\n",
    "        [0, 1, 0, 0, 0, 0, 0, 0, 0, 0, 0, 0, 0, 0, 0, 0, 1, 0, 0, 0, 0, 0, 0, 0, 0, 0, 0, 0, 0, 0],\n",
    "        [0, 0, 0, 0, 0, 0, 0, 0, 0, 0, 1, 0, 0, 0, 1, 0, 0, 1, 0, 0, 0, 0, 0, 0, 0, 0, 0, 0, 0, 0],\n",
    "        [0, 0, 0, 0, 0, 0, 0, 0, 0, 0, 0, 1, 0, 0, 0, 0, 0, 0, 0, 0, 1, 0, 0, 1, 1, 0, 0, 0, 0, 0],\n",
    "        [0, 0, 0, 0, 0, 0, 0, 1, 0, 0, 0, 1, 0, 1, 0, 0, 0, 0, 0, 0, 0, 0, 0, 0, 0, 0, 0, 0, 0, 0]]"
   ]
  },
  {
   "cell_type": "code",
   "execution_count": 5,
   "id": "acd7535e",
   "metadata": {},
   "outputs": [],
   "source": [
    "def ville_graphe(ville_m,lenmin,lenmax):\n",
    "    \"\"\" Retourn le graphe de la ville à partir de la matrice d'adjacence. ville_m = matrice, lenmin = longueur min des routes,\n",
    "    lenmax = longueur max des route. Tire aléatoirement la longueur des routes. On suppose que les routes n'ont pas de sens.   \n",
    "    \"\"\"\n",
    "    i = len(ville_m)\n",
    "    ville_graph = nx.Graph()\n",
    "    ville_graph.add_nodes_from(range(i))\n",
    "    ville_graph.add_edges_from([(x,y) for x in range(i) for y in range(i) if ville_m[x][y]==1])\n",
    "    for k in range(i-1):\n",
    "        L= [(x,y) for x in range(i) for y in range(i) if ville_m[x][y]==1]\n",
    "        for a,b in L : \n",
    "             ville_graph.add_edge(a,b, len = random.randint(lenmin,lenmax))\n",
    "    pos = nx.spring_layout(ville_graph)\n",
    "    nx.draw_networkx_edges(ville_graph,pos,edgelist=None, width=1.0, edge_color='k', style='solid', alpha=None, arrowstyle='-|>', arrowsize=10, edge_cmap=None, edge_vmin=None, edge_vmax=None, ax=None, arrows=True, label=None, node_size=300, nodelist=None, node_shape='o', connectionstyle='arc3', min_source_margin=0, min_target_margin=0)\n",
    "    nx.draw_networkx_edge_labels(ville_graph, pos)\n",
    "    nx.draw(ville_graph, pos, with_labels=True)\n",
    "    return ville_graph"
   ]
  },
  {
   "cell_type": "code",
   "execution_count": 5,
   "id": "a12ae09f",
   "metadata": {},
   "outputs": [],
   "source": [
    "def random_position(len_ville_1m):\n",
    "    \"\"\" Retourne la valeur du node de départ et celui d'arrivée de manière aléatoire. len_ville_1m = nb_colonne matrice\"\"\"\n",
    "    depart = random.randint(0,len_ville_1m -1)\n",
    "    arrivee = random.randint(0,len_ville_1m -1)\n",
    "    \n",
    "    while(depart == arrivee):\n",
    "        arrivee = random.randint(0,len_ville_1m -1)\n",
    "    return (depart, arrivee)"
   ]
  },
  {
   "cell_type": "code",
   "execution_count": null,
   "id": "085249d3",
   "metadata": {},
   "outputs": [],
   "source": []
  },
  {
   "cell_type": "code",
   "execution_count": 7,
   "id": "f2f08fde",
   "metadata": {},
   "outputs": [
    {
     "data": {
      "text/plain": [
       "9"
      ]
     },
     "execution_count": 7,
     "metadata": {},
     "output_type": "execute_result"
    }
   ],
   "source": [
    "random.randint(0,10)"
   ]
  },
  {
   "cell_type": "code",
   "execution_count": 3,
   "id": "585f4123",
   "metadata": {},
   "outputs": [],
   "source": [
    "class Voiture:\n",
    "    \"\"\" Création d'une voiture avec ses différents parametres\"\"\"\n",
    "    nbr_voiture = 0\n",
    "    def __init__(self,typee,positiondepart,positionarrivé,positionactuelle,vitesse,vitesse_max,villeg):\n",
    "        self.type = typee\n",
    "        self.speed = vitesse \n",
    "        \"\"\"position est un tuple d'un tuple de position et d'un pourcentage \"\"\"\n",
    "        self.position = positionactuelle\n",
    "        self.positiondepart = positiondepart\n",
    "        self.positionarrivé = positionarrivé\n",
    "        self.vitesse_max =vitesse_max\n",
    "        \"chemin que va prendre une voiture \"\n",
    "        self.chemin = path_choice (Proba_shortestpath,villeg,positiondepart, positionarrivé)\n",
    "        self.CO2=0.0\n",
    "        self.stock=0.0\n",
    "        Voiture.nbr_voiture += 1\n",
    "    def spawn(typesperc,nbr,lenvillem,villeg):\n",
    "        \"\"\" création de la population de voitures en prenant en compte le pourcentage de voitures éléctriques et terminques\"\"\"\n",
    "        system=[]\n",
    "        len_ville_1m = lenvillem\n",
    "        for i in range(round(nbr*typesperc['electrique'])):\n",
    "            \n",
    "            pos = random_position(len_ville_1m)\n",
    "            depart = pos[0]\n",
    "            arrivee = pos[1]\n",
    "            \n",
    "            \n",
    "            a = path_choice (Proba_shortestpath,villeg,depart, arrivee)\n",
    "            \n",
    "            system.append(\"voiture\"+str(i+1))\n",
    "            system[i]= Voiture('electrique',depart,arrivee,((depart,a[1]),0.0),50,Types_vitesseslimit['electrique'],villeg)\n",
    "            system[i].CO2=CO2emisparkm['electrique']\n",
    "        \n",
    "        for j in range(round(nbr*typesperc['thermique']), nbr):\n",
    "            \n",
    "            pos = random_position(len_ville_1m)\n",
    "            depart = pos[0]\n",
    "            arrivee = pos[1]\n",
    "            \n",
    "            b = path_choice (Proba_shortestpath,villeg,depart, arrivee)\n",
    "        \n",
    "            system.append(\"voiture\"+str(j+1))\n",
    "            system[j]= Voiture('thermique',depart,arrivee,((depart,b[1]),0.0),50,Types_vitesseslimit['thermique'],villeg)\n",
    "            system[j].CO2=CO2emisparkm['thermique']\n",
    "        return system"
   ]
  },
  {
   "cell_type": "code",
   "execution_count": 4,
   "id": "e028c779",
   "metadata": {},
   "outputs": [],
   "source": [
    "def co2_emission(distance,typee):\n",
    "    \"prend la distance en km et le type de la voiture et renvoie le taux de co2 emis\"\n",
    "    return distance * CO2emisparkm[typee]"
   ]
  },
  {
   "cell_type": "code",
   "execution_count": 5,
   "id": "e3b6ca59",
   "metadata": {},
   "outputs": [],
   "source": [
    "def co2_construction_liste (liste_voiture):\n",
    "    \"\"\"renvoie le taux de co2 cumulé emis lors de la construction des voitures de différents type de la liste de voiture sur \n",
    "    forme de tuples \"\"\"\n",
    "    ther=0.0\n",
    "    elec=0.0\n",
    "    for i in range(len(liste_voiture)):\n",
    "        if liste_voiture[i].type=='electrique':\n",
    "            elec=elec+Type['electrique']\n",
    "    for j in range(len(liste_voiture)):\n",
    "        if liste_voiture[j].type=='thermique':\n",
    "            ther=ther+Type['thermique']\n",
    "    return (ther,elec)"
   ]
  },
  {
   "cell_type": "code",
   "execution_count": 7,
   "id": "907d7c71",
   "metadata": {},
   "outputs": [],
   "source": [
    "def liste2tuple(chemin_liste):\n",
    "    \"\"\" transforme une liste en tuple. Permet d'afficher le chemin sous forme de plusieurs tuples.\n",
    "    chemin liste = liste du plus court chemin enregistré dans voiture.chemin\"\"\"\n",
    "    chemin_tuple = []\n",
    "    for i in range(len(chemin_liste)-1):\n",
    "        chemin_tuple.append((chemin_liste[i],chemin_liste[i+1]))\n",
    "    return chemin_tuple"
   ]
  },
  {
   "cell_type": "code",
   "execution_count": 8,
   "id": "3f19ee84",
   "metadata": {},
   "outputs": [
    {
     "data": {
      "text/plain": [
       "[(5, 9), (9, 13), (13, 17), (17, 22), (22, 20)]"
      ]
     },
     "execution_count": 8,
     "metadata": {},
     "output_type": "execute_result"
    }
   ],
   "source": [
    "ch=[5,9,13,17,22,20]\n",
    "tp1=liste2tuple(ch)\n",
    "tp1"
   ]
  },
  {
   "cell_type": "code",
   "execution_count": 10,
   "id": "3653286e",
   "metadata": {},
   "outputs": [],
   "source": [
    "def indice_chemin(chemin , tuplee):\n",
    "    \"\"\" retourn l'indice du tuple (position) dans le chemin sous forme de liste de tuples. chemin = liste de tuples, \n",
    "    tuplee = le tuple / arrete à trouver\"\"\"\n",
    "    for i in range(len(chemin)-1):\n",
    "        if chemin[i]==tuplee:\n",
    "            return i\n",
    "    return 0"
   ]
  },
  {
   "cell_type": "code",
   "execution_count": 23,
   "id": "60f903d7",
   "metadata": {},
   "outputs": [
    {
     "data": {
      "text/plain": [
       "(17, 22)"
      ]
     },
     "execution_count": 23,
     "metadata": {},
     "output_type": "execute_result"
    }
   ],
   "source": [
    "I=indice_chemin(tp1, (13, 17))+1\n",
    "tp1[I]"
   ]
  },
  {
   "cell_type": "code",
   "execution_count": 11,
   "id": "f0f94be7",
   "metadata": {},
   "outputs": [],
   "source": [
    "def donne_longueur(tuple1):\n",
    "    \"\"\" Retourn la longueur entre deux nodes reliés entre eux. \"\"\"\n",
    "    length = nx.get_edge_attributes(ville_1g,'len')\n",
    "    for (tuple2,l) in length.items():\n",
    "        if((tuple1[0]==tuple2[0]) and (tuple1[1]==tuple2[1])) or ((tuple1[0]==tuple2[1] )and (tuple1[1]==tuple2[0])) :\n",
    "            return l\n",
    "    return -1 "
   ]
  },
  {
   "cell_type": "code",
   "execution_count": 6,
   "id": "4d2f1c21",
   "metadata": {},
   "outputs": [],
   "source": [
    "def change_distance(voiture,verbose=False):\n",
    "    \"\"\" Cette fonction permet de deplacer une voiture pendant 10s. Elle modifie les parametres de la voiture :\n",
    "    pourcentage de la distance parcouru sur une arrete, changement de node quand on arrive à la fin de l'arrete\n",
    "    et ajout de la distance parcouru sur la nouvelle arrete\"\"\"\n",
    "    \n",
    "    chemin_liste = voiture.chemin\n",
    "    chemin = liste2tuple(chemin_liste)\n",
    "    \n",
    "    distance_parcouru =(voiture.speed*10)/3600\n",
    "    if voiture.position[1]+(distance_parcouru*100)/donne_longueur(voiture.position[0]) > 100:\n",
    "        if voiture.position[0][1]== voiture.positionarrivé:\n",
    "            voiture.speed=0\n",
    "            voiture.position=(voiture.position[0],100)\n",
    "        else:\n",
    "            if verbose:\n",
    "                print()\n",
    "                print(\"changement d'arrete \" + \"passage de \" +str(chemin[indice_chemin(chemin,voiture.position[0]) - 1]) + \" à :\" + str(voiture.position[0]))\n",
    "                print()\n",
    "            voiture.position = (chemin[indice_chemin(chemin,voiture.position[0]) + 1],0)\n",
    "        \n",
    "    \n",
    "    if voiture.position[1]<100 and voiture.speed!= 0:\n",
    "        voiture.position = (voiture.position[0],voiture.position[1]+(distance_parcouru*100)/donne_longueur(voiture.position[0])) \n",
    "        voiture.stock += co2_emission(voiture.speed*10/3600,voiture.type)"
   ]
  },
  {
   "cell_type": "code",
   "execution_count": 13,
   "id": "a517dd19",
   "metadata": {},
   "outputs": [],
   "source": [
    "test = {(0, 8): 3,\n",
    " (1, 11): 9,\n",
    " (2, 11): 4,\n",
    " (3, 7): 4,\n",
    " (3, 10): 3,\n",
    " (4, 10): 9,\n",
    " (5, 9): 3,\n",
    " (6, 9): 9,\n",
    " (7, 8): 7,\n",
    " (8, 9): 2,\n",
    " (8, 11): 4,\n",
    " (9, 10): 8,\n",
    " (10, 11): 10}"
   ]
  },
  {
   "cell_type": "markdown",
   "id": "efb7c7db",
   "metadata": {},
   "source": [
    "# Dynamique\n",
    "\n",
    "### la dynamique est la suivante soit  une voiture prit dans la liste on regarde tous les autres voitures et on regarde si elle possède des voisins(voitures devant ou derrière elle) si elle en a pas devant elle alors :\n",
    "### elle peut accélérer selon une probabilité pour créer un système de comportement qui diffère des individus    sinon si le pourcentage de deux vehicules est inférieur à l (mesure pour exprimer la distance de sécurité entre deux voiture ) alors la voiture avec le plus faible pourcentage décélère tout en ayant une vitesse plus grande que celle derrière elle , si la distance entre deux voiture est plus petite que eps alors on considère que deux voitures se sont entre choqué et on considère un état de bouchon où toute les voitures de la route sont bloqué                            on fera en sorte que les voitures qui ne sont pas dans le bouchon essaierons de chercher un autre chemin que celle de la route bouché si possible sinon elle entrainerons un bouchon continu jusqu'a que le problème soit réglé \n",
    "### Bien sûr nous prendrons en compte l'état du conducteur ( normal ,bourré,drogué ) , l'age du conducteur et son sexe "
   ]
  },
  {
   "cell_type": "code",
   "execution_count": 14,
   "id": "c887bcb0",
   "metadata": {},
   "outputs": [],
   "source": [
    "def make_all_route(route):\n",
    "    \"\"\"Fonction qui crée un dictionnaire tuple,longueur mais avec cette fois toute les tuples ex(10,11) et (11,10)\n",
    "    afin de créer toute les routes possibles pour la fonction leader_follow \"\"\"\n",
    "    res = {}\n",
    "    for (tuples,longueur) in route.items():\n",
    "        a,b=tuples\n",
    "        res[(a,b)]=longueur\n",
    "        res[(b,a)]=longueur\n",
    "    return res "
   ]
  },
  {
   "cell_type": "code",
   "execution_count": 18,
   "id": "457aa240",
   "metadata": {},
   "outputs": [],
   "source": [
    "def search_car(pos,liste_voiture):\n",
    "    \"\"\"Renvoie une liste de toutes les voitures dans la node (x,y) parmi toutes les voitures\"\"\"\n",
    "    res=[]\n",
    "    for v in liste_voiture:\n",
    "        if v.position[0]==pos:\n",
    "            res.append(v)\n",
    "    return res "
   ]
  },
  {
   "cell_type": "code",
   "execution_count": 19,
   "id": "2c9b43df",
   "metadata": {},
   "outputs": [],
   "source": [
    "def found_leader(liste_voiture):\n",
    "    \"\"\"Soit une liste de voiture de la même node ((3,10)!=(10,3)) cette fonction trouve la voiture la plus avancé dans \n",
    "    la route \"\"\"\n",
    "    leader=liste_voiture[0]\n",
    "    for i in range(1,len(liste_voiture)):\n",
    "        if leader.position[1]<liste_voiture[i].position[1]:\n",
    "            leader=liste_voiture[i]\n",
    "    return leader"
   ]
  },
  {
   "cell_type": "code",
   "execution_count": 21,
   "id": "271abc46",
   "metadata": {},
   "outputs": [],
   "source": [
    "def trie(l):\n",
    "    \"\"\"Renvoie une liste trié \"\"\"\n",
    "    n=0\n",
    "    p=n\n",
    "    for i in range(len(l)):\n",
    "        for j in range(len(l)-(i+1)):\n",
    "            if l[j]>l[j+1]:\n",
    "                n=l[j]\n",
    "                l[j]=l[j+1]\n",
    "                l[j+1]=n\n",
    "            if n==p:\n",
    "                return None"
   ]
  },
  {
   "cell_type": "markdown",
   "id": "492ad043",
   "metadata": {},
   "source": [
    "## modifier cette fonction si vous voulez une fonction de trie pour les vehicules "
   ]
  },
  {
   "cell_type": "code",
   "execution_count": 25,
   "id": "d8ad21e5",
   "metadata": {},
   "outputs": [
    {
     "data": {
      "text/plain": [
       "[6.9, 12.5, 19.8, 23.6, 29.3, 44.4, 55.1, 55.8, 65.2, 77.8]"
      ]
     },
     "execution_count": 25,
     "metadata": {},
     "output_type": "execute_result"
    }
   ],
   "source": [
    "l1=[29.3,12.5,19.8,6.9,55.1,44.4,77.8,23.6,65.2,55.8]\n",
    "trie_bulles_optim(l1)\n",
    "l1"
   ]
  },
  {
   "cell_type": "code",
   "execution_count": null,
   "id": "a5cbcf3c",
   "metadata": {},
   "outputs": [],
   "source": [
    "def liste_ordonne(liste_voiture):\n",
    "    \"\"\"Prend une liste de voiture du même couple de node et la range de manière décroissante selon son pourcentage \n",
    "    la première voiture est celle qui à le plus grand pourcentage et la dernière est celle qui à le pourcentage le plus \n",
    "    faible (note: le pourcentage est la distance de la voiture dans le couple de node)\"\"\""
   ]
  },
  {
   "cell_type": "code",
   "execution_count": 20,
   "id": "8f07d962",
   "metadata": {},
   "outputs": [],
   "source": [
    "def leader_follow(liste_voiture,ville):\n",
    "    \"\"\"Une fonction qui va determiner les voitures leaders (celle qui sont devant les autres dans les routes dans un chemin et \n",
    "    il y aura bien une différence entre le chemin (3,10) et (10,3) car elles ne se dirigent pas du même coté) et les suiveurs\n",
    "    c'est à dire les voitures qui sont derrière la voiture leader dans chaque nodes mais qui vont dans la même direction \n",
    "    et renvoie un dictionnaire où la clé sont les tuples de nodes et la valeur est un couple leader et suiveurs c'est à dire \n",
    "    un tuple d'une voiture(leader) et d'une liste de voiture(follower) \"\"\"\n",
    "    v_all={}       \n",
    "    \"\"\"\" dictionnairaire qui va me récupérer toutes les voitures d'un tuple de node\"\"\"\n",
    "    res={}\n",
    "    all_node=make_all_route(nx.get_edge_attributes(ville,'len'))\n",
    "    for (k,v) in all_node.items():\n",
    "        v_all[k]=search_car(k,liste_voiture)\n",
    "    for (k,v) in v_all.items():\n",
    "        res[k]=(found_leader(v),v)\n",
    "        \"\"\"ps : le leader est dans la liste de voiture du tuple\"\"\"\n",
    "    return res \n",
    "        \n",
    "    "
   ]
  },
  {
   "cell_type": "code",
   "execution_count": 23,
   "id": "fabc9b4b",
   "metadata": {},
   "outputs": [],
   "source": [
    "def voiture_meeting(i,j,liste,eps,l):\n",
    "    \"\"\" Fonction qui va prendre le dictionnaire(leader,followers) et qui va appliquer la dynamique à partir des leaders \n",
    "    des routes \"\"\"\n",
    "    v1=liste[i]\n",
    "    v2=liste[j]\n",
    "    if abs(v1.position[1]-v2.position[1])<eps:\n",
    "        v1.speed=0\n",
    "        v2.speed=0\n",
    "    elif a\n",
    "    \n",
    "    \n",
    "    \n",
    "    "
   ]
  },
  {
   "cell_type": "code",
   "execution_count": null,
   "id": "5439e4c1",
   "metadata": {},
   "outputs": [],
   "source": []
  }
 ],
 "metadata": {
  "kernelspec": {
   "display_name": "Python 3",
   "language": "python",
   "name": "python3"
  },
  "language_info": {
   "codemirror_mode": {
    "name": "ipython",
    "version": 3
   },
   "file_extension": ".py",
   "mimetype": "text/x-python",
   "name": "python",
   "nbconvert_exporter": "python",
   "pygments_lexer": "ipython3",
   "version": "3.8.8"
  }
 },
 "nbformat": 4,
 "nbformat_minor": 5
}
